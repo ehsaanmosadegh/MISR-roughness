{
 "cells": [
  {
   "cell_type": "code",
   "execution_count": 1,
   "metadata": {},
   "outputs": [],
   "source": [
    "import numpy as np\n",
    "import os, glob\n",
    "import gdal, osr # python2.7\n",
    "import rasterio # python2.7\n",
    "import MisrToolkit as Mtk # python2.7\n",
    "from MisrToolkit import * # "
   ]
  },
  {
   "cell_type": "markdown",
   "metadata": {},
   "source": [
    "## check files and directories"
   ]
  },
  {
   "cell_type": "code",
   "execution_count": 28,
   "metadata": {},
   "outputs": [
    {
     "name": "stdout",
     "output_type": "stream",
     "text": [
      "/Users/ehsanmos/Documents/RnD/Ehsan_lab_MISR/hdf_dir.nosync/MISR_AM1_GRP_ELLIPSOID_GM_P180_O088147_AN_F03_0024.hdf\n",
      "-> file available!\n",
      "/Users/ehsanmos/Documents/RnD/Ehsan_lab_MISR/roughness_dir/roughness_P180_O088147_B001.dat\n",
      "roughness_P180_O088147_B001.dat\n",
      "-> file available!\n"
     ]
    }
   ],
   "source": [
    "def file_fullpath_checker(file_fulPath):\n",
    "    \n",
    "    if not os.path.isfile(file_fulPath):\n",
    "        print(\"file NOT available!\")\n",
    "        print(file_fulPath)\n",
    "    else:\n",
    "        print(\"-> file available!\")\n",
    "\n",
    "    \n",
    "root = \"/Users/ehsanmos/Documents/RnD/Ehsan_lab_MISR/\"\n",
    "\n",
    "hdf_dir = os.path.join(root, \"hdf_dir.nosync\")  # Mtk projparam\n",
    "# misr_dir = \"/Volumes/Ehsanm_DRI/research/MISR/July_2016/July_01\" # test for manual check of ProjParam\n",
    "hdf_file = \"MISR_AM1_GRP_ELLIPSOID_GM_P180_O088147_AN_F03_0024.hdf\" # projParam from Mtk\n",
    "# misr_file = \"MISR_AM1_GRP_ELLIPSOID_GM_P233_O087961_CF_F03_0024.hdf\" # for manual projParam\n",
    "misr_file_fulPath = os.path.join(misr_dir, hdf_file)\n",
    "\n",
    "print(misr_file_fulPath)\n",
    "file_fullpath_checker(misr_file_fulPath)\n",
    "\n",
    "roughness_dir = \"roughness_dir\"\n",
    "roughness_dir = os.path.join(root, roughness_dir)\n",
    "\n",
    "# roughness files\n",
    "roughness_file = \"roughness_P180_O088147_B001.dat\"\n",
    "# roughness_file=\"roughness_P180_O088147_B002.dat\"\n",
    "\n",
    "roughness_file_fullPath = os.path.join(roughness_dir, roughness_file)\n",
    "print(roughness_file_fullPath)\n",
    "print(roughness_file_fullPath.split(\"/\")[-1])\n",
    "file_fullpath_checker(roughness_file_fullPath)\n",
    "\n"
   ]
  },
  {
   "cell_type": "markdown",
   "metadata": {},
   "source": [
    "## using Mtk \"bls_to_latlon\" to get corners"
   ]
  },
  {
   "cell_type": "code",
   "execution_count": 29,
   "metadata": {},
   "outputs": [
    {
     "name": "stdout",
     "output_type": "stream",
     "text": [
      "(66.22358078624517, -166.1032584351828)\n",
      "(65.752107018877, -178.84147107336798)\n",
      "\n",
      "\n",
      "(67.44907847403444, -166.86173134299995)\n",
      "(66.88915827806183, 179.7994128373612)\n"
     ]
    }
   ],
   "source": [
    "# for blk in range(1,2,1):\n",
    "print(Mtk.bls_to_latlon(180, 275, 1, 0, 0))\n",
    "print(Mtk.bls_to_latlon(180, 275, 1, 511, 2047))\n",
    "print(\"\\n\")\n",
    "print(Mtk.bls_to_latlon(180, 275, 2, 0, 0))\n",
    "print(Mtk.bls_to_latlon(180, 275, 2, 511, 2047))\n"
   ]
  },
  {
   "cell_type": "markdown",
   "metadata": {},
   "source": [
    "## using Mtk \"path_block_range_to_block_corners\" to get corners"
   ]
  },
  {
   "cell_type": "code",
   "execution_count": 79,
   "metadata": {},
   "outputs": [
    {
     "name": "stdout",
     "output_type": "stream",
     "text": [
      "b1 corner info:\n",
      "(66.223581,-166.103258)\n",
      "(65.752107,-178.841471)\n"
     ]
    }
   ],
   "source": [
    "block_range_obj = Mtk.path_block_range_to_block_corners(180, 1, 1)\n",
    "b1 = block_range_obj.block[1]\n",
    "\n",
    "print(\"b1 corner info:\")\n",
    "print(b1.ulc)\n",
    "print(b1.lrc)\n",
    "\n",
    "# print(\"\\n\")\n",
    "# b2 = block_range_obj.block[2]\n",
    "# print(b2.ulc)\n",
    "# print(b2.lrc)"
   ]
  },
  {
   "cell_type": "markdown",
   "metadata": {},
   "source": [
    "## reading roughness file to get corners from previous research files\n",
    "This is still in image coordinates"
   ]
  },
  {
   "cell_type": "code",
   "execution_count": 72,
   "metadata": {},
   "outputs": [
    {
     "name": "stdout",
     "output_type": "stream",
     "text": [
      "-> roughness file elements: 3145728\n",
      "-> roughness file dim: 1\n",
      "-> roughness file shape: 3145728\n",
      "(66.22358078624517, -166.1032584351828)\n",
      "(65.752107018877, -178.84147107336798)\n"
     ]
    }
   ],
   "source": [
    "rough_file = np.fromfile(roughness_file_fullPath, dtype='float64')     # is this roughness in cm?\n",
    "print(\"-> roughness file elements: %d\" % rough_file.size)\n",
    "print(\"-> roughness file dim: %d\" % rough_file.ndim)\n",
    "print(\"-> roughness file shape: %s\" % rough_file.shape)\n",
    "\n",
    "\n",
    "# get only the roughness values from file, roughness file has roughness-lat-lon in it as a list\n",
    "rough_arr = rough_file[0:1048576]\n",
    "lat_arr = rough_file[1048576:2097152]  # this is from MISR2Roughness.c code and from MtkBlsToLatLon().\n",
    "lon_arr = rough_file[2097152:3145728]\n",
    "# print(\"-> directly from input array:\")\n",
    "# print(\"-> 1st lat element of list: %s\" % rough_file[1048576])\n",
    "# print(\"-> last lat element of list: %s\" % rough_file[2097151])\n",
    "\n",
    "# print(\"-> shape of rough_arr: %d\" % rough_arr.shape)\n",
    "# print(\"-> shape of lat_arr: %d\" % lat_arr.shape)\n",
    "# print(\"-> shape of lon_arr: %d\" % lon_arr.shape)\n",
    "\n",
    "# create 2D roughness array \n",
    "roughness_img = rough_arr.reshape((512,2048))\n",
    "lat_img = lat_arr.reshape((512,2048))\n",
    "lon_img = lon_arr.reshape((512,2048))\n",
    "\n",
    "\n",
    "# print(\"-> rough arr reshaped: %s\" % type(roughness_img))\n",
    "# print(\"-> roughness file elements: %d\" % roughness_img.size)\n",
    "# print(\"-> roughness file new dim: %d\" % roughness_img.ndim)\n",
    "# print(\"-> roughness file new shape: %d,%d\" % roughness_img.shape)\n",
    "\n",
    "print(lat_img[0,0], lon_img[0,0])\n",
    "print(lat_img[-1,-1], lon_img[-1,-1])"
   ]
  },
  {
   "cell_type": "markdown",
   "metadata": {},
   "source": [
    "NOTE: so far we treid 3 diff ways to get 1st block corners and all 3 were the same."
   ]
  },
  {
   "cell_type": "markdown",
   "metadata": {},
   "source": [
    "## Mtk-ProjParam"
   ]
  },
  {
   "cell_type": "code",
   "execution_count": 31,
   "metadata": {},
   "outputs": [
    {
     "name": "stdout",
     "output_type": "stream",
     "text": [
      "(6378137.0, -0.006694348, 0.0, 98018013.752, 127045037.92824034, 0.0, 0.0, 0.0, 98.88, 0.0, 0.0, 180.0, 0.0, 0.0, 0.0)\n",
      "-> number of pixels in offset list:\n",
      "<type 'tuple'>\n",
      "-1472.0\n"
     ]
    }
   ],
   "source": [
    "proj_param_obj = Mtk.MtkProjParam(misr_file_fulPath)\n",
    "print(proj_param_obj.projparam)\n",
    "\n",
    "offset_list = proj_param_obj.reloffset\n",
    "# for j in offset_list:\n",
    "#     print(j)\n",
    "\n",
    "print(\"-> number of pixels in offset list:\")\n",
    "print(type(offset_list))\n",
    "print(sum(offset_list))"
   ]
  },
  {
   "cell_type": "markdown",
   "metadata": {},
   "source": [
    "## getting b1 ulc, lrc, projParam, offset"
   ]
  },
  {
   "cell_type": "code",
   "execution_count": 87,
   "metadata": {},
   "outputs": [
    {
     "name": "stdout",
     "output_type": "stream",
     "text": [
      "file is: MISR_AM1_GRP_ELLIPSOID_GM_P180_O088147_AN_F03_0024.hdf\n",
      "projection parameter code: 22\n",
      "-> ulc SOM from hdf file: (7460750,1090650) meters\n",
      "-> lrc SOM from hdf file: (7601550,527450) meters\n",
      "-> resolution from projParam: 1100\n",
      "-> number of offset pixels: 179\n"
     ]
    }
   ],
   "source": [
    "print(\"file is: %s\" % misr_file)\n",
    "proj_param_obj = Mtk.MtkProjParam(misr_file_fulPath)\n",
    "\n",
    "# print(\"-> ulc: (%d,%d) meters\" % proj_param_obj.ulc)\n",
    "\n",
    "print(\"projection parameter code: %s\" % proj_param_obj.projcode)\n",
    "ulc_som = proj_param_obj.ulc  # order: (X,Y) = (lon,lat)\n",
    "lrc_som  = proj_param_obj.lrc  # order: (X,Y) = (lon,lat)\n",
    "\n",
    "# ground truth for reference\n",
    "print(\"-> ulc SOM from hdf file: (%d,%d) meters\" % ulc_som)\n",
    "print(\"-> lrc SOM from hdf file: (%d,%d) meters\" % lrc_som)\n",
    "\n",
    "proj_param_res = proj_param_obj.resolution\n",
    "print(\"-> resolution from projParam: %d\" % proj_param_res)\n",
    "\n",
    "offset=proj_param_obj.reloffset\n",
    "\n",
    "print(\"-> number of offset pixels: %s\" % len(offset))\n",
    "\n",
    "# print(\"-> offset of pixels from ULC origin:\")\n",
    "# print(offset)"
   ]
  },
  {
   "cell_type": "markdown",
   "metadata": {},
   "source": [
    "## define corners"
   ]
  },
  {
   "cell_type": "code",
   "execution_count": 91,
   "metadata": {},
   "outputs": [
    {
     "name": "stdout",
     "output_type": "stream",
     "text": [
      "-> SOM corners as basis of truth:\n",
      "-> img ulx= 7460750.0, uly= 527450.0\n",
      "-> img lrx= 7601550.0, lry= 1090650.0\n"
     ]
    }
   ],
   "source": [
    "# use top left corner or each block\n",
    "# Swap based on MISR docs, values are in SOM projection\n",
    "ulc_somx = ulc_som[0] # as lon\n",
    "ulc_somy = lrc_som[1] # as lat\n",
    "\n",
    "lrc_somx = lrc_som[0] # as lon\n",
    "lrc_somy = ulc_som[1] # as lat\n",
    "\n",
    "print(\"-> SOM corners as basis of truth:\")\n",
    "print(\"-> img ulx= %s, uly= %s\" %(ulc_somx, ulc_somy))\n",
    "print(\"-> img lrx= %s, lry= %s\" %(lrc_somx, lrc_somy))"
   ]
  },
  {
   "cell_type": "markdown",
   "metadata": {},
   "source": [
    "## change b1 somxy --> latlon"
   ]
  },
  {
   "cell_type": "code",
   "execution_count": 111,
   "metadata": {},
   "outputs": [
    {
     "name": "stdout",
     "output_type": "stream",
     "text": [
      "-> bl ulc lat, lon: 66.222667344, -166.09958305\n",
      "-> b1 lrc lat, lon: 65.7527024414, -178.845453702\n"
     ]
    }
   ],
   "source": [
    "path_num=180\n",
    "\n",
    "b1_ul_lat, b1_ul_lon = Mtk.somxy_to_latlon(path_num, ulc_somx, ulc_somy)  # order matters => to lat-lon of only ulc\n",
    "b1_lr_lat, b1_lr_lon = Mtk.somxy_to_latlon(path_num, lrc_somx, lrc_somy)  # order matters\n",
    "\n",
    "print(\"-> bl ulc lat, lon: %s, %s\" % (b1_ul_lat, b1_ul_lon))\n",
    "print(\"-> b1 lrc lat, lon: %s, %s\" % (b1_lr_lat, b1_lr_lon))\n",
    "\n",
    "# x_res = abs((b1_lr_lon-b1_ul_lon)/float(ncols_img))\n",
    "# y_res = abs((b1_lr_lat-b1_ul_lat)/float(nrows_img))\n",
    "# print(\"-> x_res: %s, y_res: %s\" % (x_res,y_res))"
   ]
  },
  {
   "cell_type": "code",
   "execution_count": 106,
   "metadata": {},
   "outputs": [
    {
     "name": "stdout",
     "output_type": "stream",
     "text": [
      "['-*-#-*-', '-*-#-*-', '-*-#-*-', '-*-#-*-', '-*-#-*-', '-*-#-*-', '-*-#-*-', '-*-#-*-', '-*-#-*-', '-*-#-*-', '-*-#-*-', '-*-#-*-', '-*-#-*-', '-*-#-*-']\n"
     ]
    }
   ],
   "source": [
    "border = []\n",
    "for i in range(1,15,1):\n",
    "    border.append('-*-#-*-')\n",
    "print(border)"
   ]
  },
  {
   "cell_type": "code",
   "execution_count": 22,
   "metadata": {},
   "outputs": [],
   "source": [
    "# print(\"-> file: %s\" % misr_file)\n",
    "\n",
    "# proj_parameters = proj_param_obj.projparam\n",
    "# print(\"-> There are (%d) projection parameters from hdf file:\" % len(proj_parameters))\n",
    "# print(proj_parameters)\n",
    "\n",
    "# for i,j in enumerate(proj_parameters):\n",
    "#     print(\"\\t PP-%d: %d\" % (i,j))"
   ]
  },
  {
   "cell_type": "markdown",
   "metadata": {},
   "source": []
  },
  {
   "cell_type": "markdown",
   "metadata": {},
   "source": [
    "## We also get projParam from hdf file manually"
   ]
  },
  {
   "cell_type": "markdown",
   "metadata": {},
   "source": [
    "#### This is projParam from ncdump over hdf file: MISR_AM1_GRP_ELLIPSOID_GM_P180_O088147_AN_F03_0024.hdf; \n",
    "#### ProjParams=(6378137,-0.006694,0,98018013.750000,-148048021.550000,0,0,0,98.880000,0,0,180,0)"
   ]
  },
  {
   "cell_type": "markdown",
   "metadata": {},
   "source": [
    "## test of proj params for different hdf files"
   ]
  },
  {
   "cell_type": "markdown",
   "metadata": {},
   "source": [
    "note: this is not just with one block and diff cameras.\n",
    "note: projparam is constant for a path. \n",
    "test this with diff blocks and path numbers to see if proj param changes for diff blocks."
   ]
  },
  {
   "cell_type": "code",
   "execution_count": null,
   "metadata": {},
   "outputs": [],
   "source": [
    "# hdf_test_dir = \"/Users/ehsanmos/Documents/MISR/postProcess_files_temp.nosync/sample4raster/hdf_files_path_233/\"\n",
    "# hdf_file_pattern = \"MISR_AM1_GRP_ELLIPSOID_GM_P*.hdf\"\n",
    "# hdf_file_list = glob.glob(os.path.join(hdf_test_dir, hdf_file_pattern))\n",
    "# # print(\"-> MISR hdf files:\")\n",
    "\n",
    "# for ifile in hdf_file_list:\n",
    "#     print(ifile)\n",
    "#     proj_param_obj = Mtk.MtkProjParam(ifile)\n",
    "#     proj_parameters = proj_param_obj.projparam\n",
    "#     print(\"-> projParam:\")\n",
    "#     print(proj_parameters)\n"
   ]
  },
  {
   "cell_type": "markdown",
   "metadata": {},
   "source": [
    "## some other test"
   ]
  },
  {
   "cell_type": "code",
   "execution_count": null,
   "metadata": {},
   "outputs": [],
   "source": [
    "# grid_obj = Mtk.MtkGrid(misr_file_fulPath) \n",
    "# grid_res = grid_obj.\n",
    "# print(\"-> grid resolution: %s\" % grid_res)\n",
    "\n",
    "\n",
    "# for i in proj_parameters:\n",
    "# \tprint(\"\\t %s\" % i)\n",
    "\n",
    "# som_block_coord_corners\n",
    "\n"
   ]
  },
  {
   "cell_type": "markdown",
   "metadata": {},
   "source": [
    "## process files -- upto here"
   ]
  },
  {
   "cell_type": "code",
   "execution_count": null,
   "metadata": {},
   "outputs": [],
   "source": [
    "# #     for item in list_of_misr_files_fullpath:\n",
    "# #         print(item)\n",
    "#     # needs sorting based on file labels from 1->n\n",
    "    \n",
    "#     roughness_file = list_of_misr_files_fullpath[block_num]\n",
    "#         print(\"\\n-> roughness file num: (%d) @ %s\" % (block_num, roughness_file))\n",
    "        \n",
    "#         input_rough_file = np.fromfile(roughness_file, dtype='float64') \t# is this roughness in cm?\n",
    "#         print(\"-> roughness file elements:\" , input_rough_file.size)\n",
    "#         print(\"-> roughness file dim:\" , input_rough_file.ndim)\n",
    "    "
   ]
  },
  {
   "cell_type": "code",
   "execution_count": null,
   "metadata": {},
   "outputs": [],
   "source": [
    "path_list = [180] #, 196, 212, 228] # use to find roughness file labels in a dir based on path_number\n",
    "# grid_res = 275\n",
    "\n",
    "# for path in path_list:\n",
    "\n",
    "path = 180\n",
    "\n",
    "\n",
    "# how many roughness files are there?\n",
    "# make a list of available roughness files\n",
    "roughness_file_pattern = 'roughness_P'+str(path)+'*.dat'   # for ELLIPSOID data - check file names \n",
    "print(\"-> looking for pattern: %s\" % roughness_file_pattern)"
   ]
  },
  {
   "cell_type": "code",
   "execution_count": null,
   "metadata": {},
   "outputs": [],
   "source": [
    "# # do we have Ellipsoid file there?\n",
    "# # make a list of available Ellipsoid files, the list will be list of file_fullpath-s \n",
    "# list_of_misr_files_fullpath = glob.glob(os.path.join(roughness_dir, roughness_file_pattern))\n",
    "\n",
    "\n",
    "# #     for block_num in range(len(list_of_misr_files_fullpath)):\n",
    "\n",
    "# block_num = 1\n",
    "# roughness_file = list_of_misr_files_fullpath[block_num]\n",
    "# print(\"\\n-> roughness file num: (%d) %s\" % (block_num, roughness_file)) # note: sort the list based on block_number\n"
   ]
  },
  {
   "cell_type": "markdown",
   "metadata": {},
   "source": [
    "## Use GDAL to transform an array to raster\n",
    "Here we want to register img coordinates to map coordinates"
   ]
  },
  {
   "cell_type": "markdown",
   "metadata": {},
   "source": [
    "### set raster label "
   ]
  },
  {
   "cell_type": "code",
   "execution_count": null,
   "metadata": {},
   "outputs": [],
   "source": [
    "raster_label = \"LatLon_degreeRes\"   # \"reproject\" , \"my_gdal_imp\" #\"gdal_imp\" #\"rasIO_2\" #\"rasIO_orig\" # label of output raster; and turn on the test!"
   ]
  },
  {
   "cell_type": "code",
   "execution_count": null,
   "metadata": {},
   "outputs": [],
   "source": [
    "## define output raster\n",
    "raster_name = roughness_file.split(\"/\")[-1]+\"-\"+raster_label+\".tif\"\n",
    "raster_dir = misr_dir\n",
    "raster_fullPath = os.path.join(raster_dir, raster_name)\n",
    "print(\"-> raster name: %s\" % (raster_name))\n",
    "print(\"-> output raster fullPath:\")\n",
    "print(raster_fullPath)"
   ]
  },
  {
   "cell_type": "code",
   "execution_count": null,
   "metadata": {},
   "outputs": [],
   "source": [
    "## define band and numeric type\n",
    "bands_num = 1\n",
    "datatype = gdal.GDT_Float32\n",
    "# epsg_code = 4326 # #3031 # output map projection == coord-ref-sys; code for SOM?"
   ]
  },
  {
   "cell_type": "markdown",
   "metadata": {},
   "source": [
    "### Define corners"
   ]
  },
  {
   "cell_type": "code",
   "execution_count": null,
   "metadata": {},
   "outputs": [],
   "source": [
    "# # use top left corner or each block\n",
    "# # Swap based on MISR docs, values are in SOM projection\n",
    "# img_ul_x = ul_corner[0] # as lon\n",
    "# img_ul_y = lr_corner[1] # as lat\n",
    "\n",
    "# img_lr_x = lr_corner[0] # as lon\n",
    "# img_lr_y = ul_corner[1] # as lat\n",
    "\n",
    "# print(\"-> img ulx= %s, uly= %s\" %(img_ul_x, img_ul_y))\n",
    "# print(\"-> img lrx= %s, lry= %s\" %(img_lr_x, img_lr_y))"
   ]
  },
  {
   "cell_type": "markdown",
   "metadata": {},
   "source": [
    "### zeroing negative values in roughness arrays"
   ]
  },
  {
   "cell_type": "code",
   "execution_count": null,
   "metadata": {},
   "outputs": [],
   "source": [
    "## define size of each block\n",
    "# img_pixel_width = 275 # pixel spacing??? meters; roughness dataset resolution of each pixel; \n",
    "# img_pixel_height = 275 # meters;\n",
    "\n",
    "nrows_img, ncols_img = np.shape(roughness_img) # get dimensions of the 2D roughness array\n",
    "print(nrows_img, ncols_img)\n",
    "\n",
    "# roughness_img = roughness_img*10\n",
    "roughness_img = np.where(roughness_img<0, 0, roughness_img)  # change -Values to 0.0\n",
    "\n",
    "print(\"-> img min: %d\" % roughness_img.min())\n",
    "print(\"-> img max: %d\" % roughness_img.max())\n"
   ]
  },
  {
   "cell_type": "markdown",
   "metadata": {},
   "source": [
    "### Define pixel resolution in degrees (x_res & y_res)"
   ]
  },
  {
   "cell_type": "code",
   "execution_count": null,
   "metadata": {},
   "outputs": [],
   "source": [
    "path_num=180\n",
    "\n",
    "b1_ul_lat, b1_ul_lon = Mtk.somxy_to_latlon(path_num, img_ul_x, img_ul_y)  # order matters => to lat-lon of only ulc\n",
    "\n",
    "b1_lr_lat, b1_lr_lon = Mtk.somxy_to_latlon(path_num, img_lr_x, img_lr_y)  # order matters\n",
    "\n",
    "print(\"-> block1-ULC: lat: %s, lon: %s\" % (b1_ul_lat, b1_ul_lon))\n",
    "print(\"-> block1-LRC: lat: %s, lon: %s\" % (b1_lr_lat, b1_lr_lon))\n",
    "\n",
    "x_res = abs((b1_lr_lon-b1_ul_lon)/float(ncols_img))\n",
    "y_res = abs((b1_lr_lat-b1_ul_lat)/float(nrows_img))\n",
    "\n",
    "print(\"-> x_res: %s, y_res: %s\" % (x_res,y_res))"
   ]
  },
  {
   "cell_type": "markdown",
   "metadata": {},
   "source": [
    "# ---------- RASTER IMPLEMENTATION TESTS ----------"
   ]
  },
  {
   "cell_type": "markdown",
   "metadata": {},
   "source": [
    "## rasterIO- original"
   ]
  },
  {
   "cell_type": "code",
   "execution_count": null,
   "metadata": {},
   "outputs": [],
   "source": [
    "rasIO_orig = \"no\" # issue: CRSError: The WKT could not be parsed. OGR Error code 5, also gdalinfo shows no crs \n",
    "\n",
    "if rasIO_orig == \"yes\":\n",
    "    \n",
    "    geotransform = (img_topLeft_x, img_pixel_width, 0, img_topLeft_y, 0, img_pixel_height) # units meter or degrees --> (top-left-X,...,top-left-Y) ???\n",
    "\n",
    "    crs = osr.SpatialReference() # 1- initialize the class of coordinate reference system (crs == srs)\n",
    "    crs.ImportFromProj4(\"+a=6378137 +b=-0.006694 +lon_0=-148048021.550000 +x_0=0 +y_0=0 +ellps=WGS84 +units=meters +proj=misrsom +path=180\")\n",
    "\n",
    "    #projparam_string=\"+a=6378137 +b=-0.006694 +lon_0=-148048021.550000 +x_0=0 +y_0=0 +ellps=WGS84 +units=meters +proj=misrsom +path=180\" # issue: CRSError: The WKT could not be parsed. OGR Error code 5\n",
    "\n",
    "    \n",
    "    print(\"-> output frame: %s\" % crs.ExportToWkt())\n",
    "    \n",
    "    with rasterio.open(raster_fullPath,\n",
    "                        mode='w',\n",
    "                        crs=crs.ExportToWkt(),   # describe a crs for raster\n",
    "                        #crs=projparam_string,\n",
    "                        driver='GTiff',\n",
    "                        height=rows_img,         #Z.shape[0],\n",
    "                        width=cols_img,          #Z.shape[1],\n",
    "                        count=1,\n",
    "                        dtype='float64',         # gdal.GDT_Float32, #Z.dtype,\n",
    "                        transform=geotransform) as dst:\n",
    "                            dst.write(roughness_img, 1)\n",
    "    \n",
    "    dst.close()\n",
    "    print(\"-> DONE\")\n",
    "    print(raster_fullPath)"
   ]
  },
  {
   "cell_type": "markdown",
   "metadata": {},
   "source": [
    "## rasterIO- Ehsan modified"
   ]
  },
  {
   "cell_type": "code",
   "execution_count": null,
   "metadata": {},
   "outputs": [],
   "source": [
    "rasIO_me = \"no\" # I modified CRS based on GDAL\n",
    "\n",
    "# from rasterio.crs import CRS\n",
    "\n",
    "if rasIO_me == \"yes\":\n",
    "    \n",
    "    geotransform = (img_topLeft_x, img_pixel_width, 0, img_topLeft_y, 0, img_pixel_height) # units meter or degrees --> (top-left-X,...,top-left-Y) ???\n",
    "\n",
    "    crs = osr.SpatialReference() # initialize the class of coordinate reference system (crs == srs)\n",
    "    crs.ImportFromProj4(\"+a=6378137 +b=-0.006694 +lon_0=-148048021.550000 +x_0=0 +y_0=0 +ellps=WGS84 +units=meters +proj=misrsom +path=180\")\n",
    "    \n",
    "    out_raster = rasterio.open(raster_fullPath,\n",
    "                                'w',\n",
    "                                crs=crs.ExportToWkt(), # I added this myself\n",
    "                                driver='GTiff',\n",
    "                                height=rows_img, \n",
    "                                width=cols_img,\n",
    "                                count=1,\n",
    "                                dtype='float64',\n",
    "                                transform=geotransform)\n",
    "    \n",
    "    out_raster.write(roughness_img, 1)\n",
    "    out_raster.close()\n",
    "    \n",
    "    print(\"-> DONE\")\n",
    "    print(raster_fullPath)\n",
    "    "
   ]
  },
  {
   "cell_type": "markdown",
   "metadata": {},
   "source": [
    "## old test"
   ]
  },
  {
   "cell_type": "code",
   "execution_count": null,
   "metadata": {},
   "outputs": [],
   "source": [
    "old_test = \"no\"\n",
    "\n",
    "if old_test == \"yes\":\n",
    "    # define a projection with PROJ4 string or WKT string; import the projParam into the crs class\n",
    "    # Q- what are the arguments?\n",
    "    # crs.ImportFromEPSG(epsg_code) \n",
    "    # crs_obj.ImportFromProj4(\"6378137.0, -0.006694348, 0.0, 98018013.752, 127045037.92824034, 0.0, 0.0, 0.0, 98.88, 0.0, 0.0, 180.0, 0.0, 0.0, 0.0\")\n",
    "    # ProjParams_proj4string = \"+proj=misrsom +path=180 +lon_0=0 +ellps=WGS-84 +R=6378137.0 +x_0=0.0 +y_0=0.0\"\n",
    "\n",
    "    ## ProjParams:\n",
    "    ## from hdf file: 1-----------2----------3------4---------------5--------------------6---7----8------9--------10---11---12-----13---14---15\n",
    "    ## ncdump   = (6378137.0, -0.006694,    0.0, 98018013.750000, -148048021.550000,   0.0, 0.0, 0.0, 98.880000, 0.0, 0.0, 180,   0.0)  -----------> 13 params, ncdump\n",
    "    ## from Mtk = (6378137.0, -0.006694348, 0.0, 98018013.752,    +127045037.92824034, 0.0, 0.0, 0.0, 98.880000, 0.0, 0.0, 180.0, 0.0, 0.0, 0.0) --> 15 params, Mtk\n",
    "\n",
    "    ## 4= IncAng: Inclination of orbit at ascending node, 98018013.75 == 98 degrees, 18 min, 13.75 sec\n",
    "\n",
    "    ## note: 2 & 5 are different! I trust in ncdump, so I will continue w/projparams from ncdump \n",
    "    ## 2= Sminor; semi-minor axis of ellipsoid; \n",
    "    ## 5= AscLong: Longitude of ascending orbit at equator; is different for every path num. == 233 paths\n",
    "\n",
    "    # ProjParams_proj4string = \"+a=6378137 +b=-0.006694 +lon_0=-148048021.550000 +x_0=0 +y_0=0 +ellps=WGS84 +units=meters +proj=misrsom\" # strig of parameters\n",
    "\n",
    "    outRaster_SRS_obj = osr.SpatialReference() # 1- initialize the class of coordinate reference system (crs == srs)\n",
    "    outRaster_SRS_obj.ImportFromProj4(\"+a=6378137 +b=-0.006694 +lon_0=-148048021.550000 +x_0=0 +y_0=0 +ellps=WGS84 +units=meters +proj=misrsom +path=180\")\n",
    "    # crs.ImportFromWtk????\n",
    "\n",
    "    # **********************************************************\n",
    "\n",
    "\n",
    "    # 3- Exports the coordinate system to the file\n",
    "    # out_raster.SetProjection(crs.ExportToWkt()) ?????\n",
    "    out_raster.SetProjection(outRaster_SRS_obj.ExportToWkt())  # projection info is inside crs_obj; we need to transform it to string format, wkt or proj4 string representation \n",
    "\n",
    "    # or                    crs_obj.ExportToProj4()\n",
    "\n",
    "\n",
    "\n",
    "    # OR\n",
    "\n",
    "    # # 2&3\n",
    "    # proj_ref = crs.ImportFromProj4(\"6378137.0, -0.006694348, 0.0, 98018013.752, 127045037.92824034, 0.0, 0.0, 0.0, 98.88, 0.0, 0.0, 180.0, 0.0, 0.0, 0.0\")\n",
    "    # out_raster.SetProjection(proj_ref) # Set the projection reference string for this dataset; The string should be in OGC WKT or PROJ.4 format.\n",
    "    #########################################################\n",
    "    # old stuff\n",
    "\n",
    "    # # we define/set projection parameters for our array that we want to transfor to a raster; ellipsoid is this: WGS84; \n",
    "    # raster_srs.ImportFromEPSG(epsg_code) \n",
    "\n",
    "    # Exports the coordinate system to the file\n",
    "    # out_raster.SetProjection(raster_srs.ExportToWkt()) ?????\n",
    "\n",
    "    # # others\n",
    "    # >>> sr.ImportFromProj4('''+proj=utm +zone=12 +ellps=GRS80\n",
    "    # ... +towgs84=0,0,0,0,0,0,0 +units=m +no_defs ''') \n",
    "\n",
    "    # raster_spatial_ref_sys.ImportFromProj4(\"6378137.0, -0.006694348, 0.0, 98018013.752, 127045037.92824034, 0.0, 0.0, 0.0, 98.88, 0.0, 0.0, 180.0, 0.0, 0.0, 0.0\")\n",
    "    # # raster_spatial_ref_sys.ImportFromProj4( '+proj=som +lat_0=40.000  +lon_0=-120.806  +lat_1=40.450  +lat_2=36.450  +units=m , +datum=WGS84 +no_defs' )\n",
    "    # # raster_spatial_ref_sys.ImportFromProj4('+proj=som , +units=m , +datum=WGS84 +no_defs')\n",
    "    \n",
    "    \n",
    "#     outband.FlushCache()\n",
    "#     outband = None # Once we're done, close the dataset properly\n",
    "#     print(\"-> FINISHED SUCCESS!\")\n"
   ]
  },
  {
   "cell_type": "markdown",
   "metadata": {},
   "source": [
    "## original GDAL code "
   ]
  },
  {
   "cell_type": "code",
   "execution_count": null,
   "metadata": {},
   "outputs": [],
   "source": [
    "# import gdal, ogr, os, osr\n",
    "# import numpy as np\n",
    "\n",
    "sample_test_on = \"no\"\n",
    "\n",
    "if sample_test_on == \"yes\":\n",
    "\n",
    "    def array2raster(newRasterfn,rasterOrigin,pixelWidth,pixelHeight,array):\n",
    "\n",
    "        cols = array.shape[1]\n",
    "        rows = array.shape[0]\n",
    "        originX = rasterOrigin[0]\n",
    "        originY = rasterOrigin[1]\n",
    "\n",
    "        driver = gdal.GetDriverByName('GTiff')\n",
    "        outRaster = driver.Create(newRasterfn, cols, rows, 1, gdal.GDT_Byte)\n",
    "        outRaster.SetGeoTransform((originX, pixelWidth, 0, originY, 0, pixelHeight))\n",
    "        \n",
    "        outband = outRaster.GetRasterBand(1)\n",
    "        outband.WriteArray(array)\n",
    "        \n",
    "        outRasterSRS = osr.SpatialReference()\n",
    "        outRasterSRS.ImportFromEPSG(4326)\n",
    "        print(\"-> outout frame: %s\" % outRasterSRS.ExportToWkt())\n",
    "        outRaster.SetProjection(outRasterSRS.ExportToWkt())\n",
    "        outband.FlushCache()\n",
    "\n",
    "\n",
    "    def main(newRasterfn,rasterOrigin,pixelWidth,pixelHeight,array):\n",
    "        reversed_arr = array[::-1] # reverse array so the tif looks like the array\n",
    "        array2raster(newRasterfn,rasterOrigin,pixelWidth,pixelHeight,reversed_arr) # convert array to raster\n",
    "\n",
    "\n",
    "    if __name__ == \"__main__\":\n",
    "        rasterOrigin = (-123.25745,45.43013)\n",
    "        pixelWidth = 10\n",
    "        pixelHeight = 10\n",
    "        newRasterfn = '/Users/ehsanmos/Documents/MISR/postProcess_files_temp.nosync/sample4raster/gdal_example_raster.tif'\n",
    "        array = np.array([[ 1, 1, 1, 1, 1, 1, 1, 1, 1, 1, 1, 1, 1, 1, 1, 1, 1, 1, 1],\n",
    "                          [ 1, 1, 1, 1, 1, 1, 1, 1, 1, 1, 0, 1, 1, 1, 1, 1, 1, 1, 1],\n",
    "                          [ 1, 0, 0, 0, 0, 1, 0, 0, 0, 0, 0, 0, 0, 0, 1, 0, 1, 1, 1],\n",
    "                          [ 1000, 1000, 1000, 1000, 1000, 1000, 1000, 1000, 1000, 1000, 0, 0, 0, 0, 0, 0, 0, 0, 0],\n",
    "                          [ 1, 0, 1, 0, 0, 1, 1, 0, 1, 0, 256, 0, 0, 0, 1, 0, 1, 1, 1],\n",
    "                          [ 1, 0, 1, 1, 0, 1, 1, 0, 1, 0, 256, 0, 1, 0, 1, 0, 1, 1, 1],\n",
    "                          [ 1, 0, 0, 0, 0, 1, 0, 0, 0, 0, 256, 0, 1, 0, 1, 0, 0, 0, 1],\n",
    "                          [ 1, 1, 1, 1, 1, 1, 1, 1, 1, 1, 256, 1, 1, 1, 1, 1, 1, 1, 1],\n",
    "                          [ 1, 1, 1, 1, 1, 1, 1, 1, 1, 1, 256, 1, 1, 1, 1, 1, 1, 1, 1],\n",
    "                          [ 1, 1, 1, 1, 1, 1, 1, 1, 1, 1, 1, 1, 1, 1, 1, 1, 1, 1, 1]])\n",
    "\n",
    "\n",
    "        main(newRasterfn,rasterOrigin,pixelWidth,pixelHeight,array)"
   ]
  },
  {
   "cell_type": "markdown",
   "metadata": {},
   "source": [
    "## similar to GDAL implementation "
   ]
  },
  {
   "cell_type": "code",
   "execution_count": null,
   "metadata": {},
   "outputs": [],
   "source": [
    "from pyproj import CRS\n",
    "\n",
    "gdal_imp = \"no\"\n",
    "\n",
    "if gdal_imp == \"yes\":\n",
    "    \n",
    "    # define the geotransformation (T_v transformation) for SOM map projection\n",
    "    geotransformation = (img_topLeft_x, img_pixel_width, 0, img_topLeft_y, 0, img_pixel_height) # units meter or degrees --> (top-left-X,...,top-left-Y)\n",
    "\n",
    "    driver = gdal.GetDriverByName('GTiff')  # Initialize driver\n",
    "    out_raster = driver.Create(raster_fullPath, cols_img, rows_img, bands_num, datatype)  # create output raster/matrix dataseet to write data into it (raster_fullPath, ncols_rough_arr, nrows_rough_arr, bands, dtype-> GDAL data type arg)\n",
    "    out_raster.SetGeoTransform(geotransformation)  # Set the affine transformation coefficients == Specify raster coordinates\n",
    "\n",
    "    \n",
    "    outband = out_raster.GetRasterBand(bands_num)\n",
    "    outband.WriteArray(roughness_img)   # write my array to the raster\n",
    "\n",
    "    # test\n",
    "    proj_string=\"+a=6378137 +b=-0.006694 +lon_0=-148048021.550000 +x_0=0 +y_0=0 +ellps=WGS84 +units=meters +proj=misrsom +path=180 +axis=enu +pm=greenwich +no_defs\"\n",
    "    crs = CRS.from_proj4(proj_string)\n",
    "\n",
    "#     outRasterSRS_obj = osr.SpatialReference() # 1- initialize the class of coordinate reference system (crs == srs)\n",
    "#     outRasterSRS_obj.ImportFromProj4()  # issue is here, how define projparam for raster?\n",
    "#     print(\"-> output frame: %s\" % outRasterSRS_obj.ExportToWkt())\n",
    "    \n",
    "    #     out_raster.SetProjection(outRaster_SRS_obj.ExportToWkt())  # projection info is inside crs_obj; we need to transform it to string format, wkt or proj4 string representation \n",
    "\n",
    "#     outband.FlushCache()\n",
    "#     #outband = None          # Once we're done, close the dataset properly\n",
    "#     out_raster = None\n",
    "#     print(\"-> DONE!\")\n",
    "    "
   ]
  },
  {
   "cell_type": "markdown",
   "metadata": {},
   "source": [
    "## reproject from SOM to lat/lon and to PolarStereographic"
   ]
  },
  {
   "cell_type": "code",
   "execution_count": null,
   "metadata": {},
   "outputs": [],
   "source": [
    "reproject_on = \"no\"\n",
    "\n",
    "if reproject_on == \"yes\":\n",
    "    version_num = int(gdal.VersionInfo('VERSION_NUM'))\n",
    "    print(\"GDAL version: %s\"%version_num)\n",
    "\n",
    "\n",
    "#     osng = osr.SpatialReference ()\n",
    "#     osng.ImportFromEPSG ( epsg_to )\n",
    "#     wgs84 = osr.SpatialReference ()\n",
    "#     wgs84.ImportFromEPSG ( epsg_from )\n",
    "#     tx = osr.CoordinateTransformation ( wgs84, osng )\n",
    "\n",
    "\n",
    "\n",
    "    # setup input frame == source som \n",
    "    som_crs = osr.SpatialReference() # 1- initialize the class of coordinate reference system (crs == srs)\n",
    "    #som_crs.ImportFromProj4(\"+a=6378137 +b=-0.006694 +lon_0=-148048021.550000 +x_0=0 +y_0=0 +ellps=WGS84 +units=meters +proj=misrsom +path=180\") # strig of projection parameters, lon_0=CentMer=AscLong\n",
    "    som_crs.ImportFromEPSG(4326) # epsg for lat-lon\n",
    "    print(som_crs)\n",
    "\n",
    "    # setup output frame == target lat/lon\n",
    "    latlon_crs = osr.SpatialReference()\n",
    "    latlon_crs.ImportFromEPSG(9810)  # epsg for polar stereographic\n",
    "\n",
    "    # create crs transformation\n",
    "    tx = osr.CoordinateTransformation(som_crs, latlon_crs) # <osgeo.osr.CoordinateTransformation; proxy of None >\n",
    "\n",
    "    # Work out the boundaries of the new dataset in the target projection\n",
    "    result1 = tx.TransformPoint( geotransform_som[0], geotransform_som[3])  # does here need inverting the orders? (x,y)->(y,x) ; (ulx, uly, ulz )\n",
    "    print(result1)\n",
    "    #(lrx, lry, lrz ) = tx.TransformPoint( geotransform_som[0] + geotransform_som[1]*cols_img, geotransform_som[3] + geotransform_som[5]*rows_img ) # xsize == cols_img , ysize == rows_img\n",
    "    \n",
    "    \n",
    "    \n",
    "    \n",
    "    \n",
    "    \n",
    "#     # Now, we create an in-memory raster\n",
    "#     mem_drv = gdal.GetDriverByName( 'MEM' )\n",
    "#     # The size of the raster is given the new projection and pixel spacing\n",
    "#     # Using the values we calculated above. Also, setting it to store one band\n",
    "#     # and to use Float32 data type.\n",
    "#     dest = mem_drv.Create('', int((lrx - ulx)/pixel_spacing), \\\n",
    "#             int((uly - lry)/pixel_spacing), 1, gdal.GDT_Float32)\n",
    "    \n",
    "    \n",
    "#     pixel_spacing = 275 # meters based on SOM\n",
    "#     # Calculate the new geotransform\n",
    "#     new_geo = ( ulx, pixel_spacing, geotransform_som[2], uly, geotransform_som[4], -pixel_spacing )  # geo_t --> geotransform_som\n",
    "                \n",
    "#     # Set the geotransform\n",
    "#     dest.SetGeoTransform( new_geo )\n",
    "#     dest.SetProjection ( latlon_crs.ExportToWkt())\n",
    "    \n",
    "    \n",
    "#     # Perform the projection \n",
    "#     reprojected_dataset = gdal.ReprojectImage( g, dest, \\  # what is g? raster or array?\n",
    "#                 som_crs.ExportToWkt(), latlon_crs.ExportToWkt(), \\\n",
    "#                 gdal.GRA_Bilinear )\n",
    "    \n",
    "    \n",
    "    \n",
    "#     # create output raster and setup driver=GTiff\n",
    "#     driver = gdal.GetDriverByName('GTiff')  # we create an in-memory raster\n",
    "#     output_raster = driver.Create(raster_fullPath, cols_img, rows_img, bands_num, datatype)  # create output raster (img+georefrenced info) dataseet to write data into it (raster_fullPath, ncols_rough_arr, nrows_rough_arr, bands, dtype-> GDAL data type arg)\n",
    "   \n",
    "\n",
    "\n",
    "\n",
    "#     # set geo-transformation on output raster\n",
    "#     output_raster.SetGeoTransform(geotransform_matrix_affine)  # Set the affine transformation coefficients == Specify raster coordinates\n",
    "    \n",
    "\n",
    "    \n",
    "# #     band.Transform(transform)  # projection info is inside crs_obj; we need to transform it to string format, wkt or proj4 string representation \n",
    "\n",
    "    \n",
    "#     print(band)\n",
    "    \n",
    "    \n",
    "# #     band.SetProjection(crs_som.ExportToWkt())  # projection info is inside crs_obj; we need to transform it to string format, wkt or proj4 string representation \n",
    "    \n",
    "    \n",
    "    \n",
    "# #     band.WriteArray(roughness_img)   # write my array to the raster\n",
    "    \n",
    "# # #     print(output_raster.crs)\n",
    "    \n",
    "\n",
    "    \n",
    "# #     output_raster.FlushCache()\n",
    "# #     band.FlushCache()\n",
    "    \n",
    "# # #     # Once we're done, close the dataset properly\n",
    "# # #     output_raster = None\n",
    "# # #     band = None\n",
    "    \n",
    "#     print(\"-> FINISHED SUCCESS!\")\n",
    "#     print(raster_fullPath)"
   ]
  },
  {
   "cell_type": "markdown",
   "metadata": {},
   "source": [
    "## *** Georeferencing: Ehsan GDAL implementation "
   ]
  },
  {
   "cell_type": "code",
   "execution_count": null,
   "metadata": {},
   "outputs": [],
   "source": [
    "myGDAL_imp_on = \"yes\"\n",
    "\n",
    "if myGDAL_imp_on == \"yes\":\n",
    "\n",
    "    #geotrans_matrix_affine = (img_topLeft_x, img_pixel_width, 0, img_topLeft_y, 0, img_pixel_height) # units meter or degrees? in img coord or map coord? --> (top-left-X,...,top-left-Y)\n",
    "    #geotrans_matrix = (block1_ulc_lon, img_pixel_width, 0, block1_ulc_lat, 0, img_pixel_height) # units in degrees cosOf lat-lon\n",
    "    geotrans_matrix = (b1_ul_lon, x_res, 0, b1_ul_lat, 0, y_res) # units in degrees cosOf lat-lon\n",
    "\n",
    "    \n",
    "    # create output raster and setup driver=GTiff\n",
    "    driver = gdal.GetDriverByName('GTiff')  # Initialize driver\n",
    "    out_raster = driver.Create(raster_fullPath, ncols_img, nrows_img, bands_num, datatype)  # create output raster (img+georefrenced info) dataseet to write data into it (raster_fullPath, ncols_rough_arr, nrows_rough_arr, bands, dtype-> GDAL data type arg)\n",
    "    out_raster.SetGeoTransform(geotrans_matrix)  # Set the affine transformation coefficients == Specify raster coordinates\n",
    "\n",
    "    \n",
    "    \n",
    "    outband = out_raster.GetRasterBand(bands_num)\n",
    "    outband.WriteArray(roughness_img)\n",
    "\n",
    "    crs = osr.SpatialReference()\n",
    "    crs.ImportFromEPSG(4326)\n",
    "    print(\"-> outout frame: %s\" % crs.ExportToWkt())\n",
    "    out_raster.SetProjection(crs.ExportToWkt())\n",
    "    outband.FlushCache()\n",
    "        \n",
    "\n",
    "#     # setup crs for the output raster (crs obj)\n",
    "#     crs = osr.SpatialReference() # 1- initialize the class of coordinate reference system (crs == srs)\n",
    "# #     crs.ImportFromProj4(\"+a=6378137 +b=-0.006694 +lon_0=-148048021.550000 +x_0=0 +y_0=0 +ellps=WGS84 +units=meters +proj=misrsom +path=180\") # strig of projection parameters, lon_0=CentMer=AscLong\n",
    "#     crs.ImportFromEPSG(4326) # epsg for lat-lon\n",
    "#     print(\"-> outout frame: %s\" % crs.ExportToWkt())\n",
    "#     out_raster.SetProjection(crs.ExportToWkt())  # projection info is inside crs_obj; we need to transform it to string format, wkt or proj4 string representation \n",
    "    \n",
    "\n",
    "#     # now extract 1 band from output raster\n",
    "#     band = out_raster.GetRasterBand(bands_num)\n",
    "#     band.WriteArray(roughness_img)   # write my array to the raster\n",
    "\n",
    "    \n",
    "#     out_raster.FlushCache()\n",
    "#     band.FlushCache()\n",
    "    \n",
    "    # Once we're done, close the dataset properly\n",
    "    out_raster = None\n",
    "    outband = None\n",
    "    \n",
    "    print(\"-> FINISHED SUCCESS!\")\n",
    "    print(raster_fullPath)"
   ]
  },
  {
   "cell_type": "code",
   "execution_count": null,
   "metadata": {},
   "outputs": [],
   "source": []
  }
 ],
 "metadata": {
  "kernelspec": {
   "display_name": "Python 2",
   "language": "python",
   "name": "python2"
  },
  "language_info": {
   "codemirror_mode": {
    "name": "ipython",
    "version": 2
   },
   "file_extension": ".py",
   "mimetype": "text/x-python",
   "name": "python",
   "nbconvert_exporter": "python",
   "pygments_lexer": "ipython2",
   "version": "2.7.16"
  }
 },
 "nbformat": 4,
 "nbformat_minor": 2
}
