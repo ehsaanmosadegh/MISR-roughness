{
 "cells": [
  {
   "cell_type": "code",
   "execution_count": 1,
   "metadata": {},
   "outputs": [],
   "source": [
    "# import numpy as np\n",
    "import os, glob\n",
    "# import gdal, osr # python2.7\n",
    "import MisrToolkit as Mtk # python2.7\n",
    "from MisrToolkit import * # \n",
    "# from subprocess import call\n",
    "# import datetime as dt\n",
    "# from matplotlib import pyplot as plt \n",
    "import shutil"
   ]
  },
  {
   "cell_type": "code",
   "execution_count": 2,
   "metadata": {},
   "outputs": [],
   "source": [
    "main_roughness_dir_fullpath = '/Volumes/Ehsanm_DRI/research/MISR/roughness_files/from_PH/roughness_2013_apr1to16_p1to233_b1to40'"
   ]
  },
  {
   "cell_type": "code",
   "execution_count": 3,
   "metadata": {},
   "outputs": [],
   "source": [
    "year = 2013\n",
    "month = 4\n",
    "day = 4"
   ]
  },
  {
   "cell_type": "code",
   "execution_count": 4,
   "metadata": {},
   "outputs": [],
   "source": [
    "start_time = str(year)+'-'+str(month)+'-'+str(day)+'T00:00:00Z'\n",
    "end_time = str(year)+'-'+str(month)+'-'+str(day)+'T23:59:59Z'"
   ]
  },
  {
   "cell_type": "code",
   "execution_count": 5,
   "metadata": {},
   "outputs": [
    {
     "name": "stdout",
     "output_type": "stream",
     "text": [
      "2013-4-4T00:00:00Z\n",
      "2013-4-4T23:59:59Z\n"
     ]
    }
   ],
   "source": [
    "print(start_time)\n",
    "print(end_time)"
   ]
  },
  {
   "cell_type": "code",
   "execution_count": 6,
   "metadata": {},
   "outputs": [
    {
     "name": "stdout",
     "output_type": "stream",
     "text": [
      "[70710, 70711, 70712, 70713, 70714, 70715, 70716, 70717, 70718, 70719, 70720, 70721, 70722, 70723, 70724, 70725]\n",
      "-> found 16 orbits!\n"
     ]
    }
   ],
   "source": [
    "orbit_list = Mtk.time_range_to_orbit_list(start_time, end_time)\n",
    "print(orbit_list)\n",
    "print('-> found %d orbits!' %len(orbit_list))"
   ]
  },
  {
   "cell_type": "markdown",
   "metadata": {},
   "source": [
    "## for each orbit in list, we will find roughness files for that specific orbit "
   ]
  },
  {
   "cell_type": "markdown",
   "metadata": {},
   "source": [
    "## check if directory for specific day exists, else we create the directory"
   ]
  },
  {
   "cell_type": "code",
   "execution_count": 7,
   "metadata": {},
   "outputs": [
    {
     "name": "stdout",
     "output_type": "stream",
     "text": [
      "roughness_subdir_2013_4_4\n"
     ]
    }
   ],
   "source": [
    "rough_subdir_name = 'roughness_subdir_'+str(year)+'_'+str(month)+'_'+str(day)\n",
    "print(rough_subdir_name)"
   ]
  },
  {
   "cell_type": "code",
   "execution_count": 8,
   "metadata": {},
   "outputs": [
    {
     "name": "stdout",
     "output_type": "stream",
     "text": [
      "/Volumes/Ehsanm_DRI/research/MISR/roughness_files/from_PH/roughness_2013_apr1to16_p1to233_b1to40/roughness_subdir_2013_4_4\n"
     ]
    }
   ],
   "source": [
    "rough_subdir_fullpath = os.path.join(main_roughness_dir_fullpath, rough_subdir_name)\n",
    "print(rough_subdir_fullpath)"
   ]
  },
  {
   "cell_type": "code",
   "execution_count": 9,
   "metadata": {},
   "outputs": [
    {
     "name": "stdout",
     "output_type": "stream",
     "text": [
      "-> roughness subdir does NOT exist! We make that directory.\n",
      "/Volumes/Ehsanm_DRI/research/MISR/roughness_files/from_PH/roughness_2013_apr1to16_p1to233_b1to40/roughness_subdir_2013_4_4\n",
      "True\n"
     ]
    }
   ],
   "source": [
    "if (not (os.path.isdir(rough_subdir_fullpath))):\n",
    "    print('-> roughness subdir does NOT exist! We make that directory.')\n",
    "    os.mkdir(rough_subdir_fullpath)\n",
    "    print(rough_subdir_fullpath)\n",
    "    print(os.path.isdir(rough_subdir_fullpath))\n",
    "else:\n",
    "    print('-> roughness subdir exists!')\n",
    "    print(rough_subdir_fullpath)\n",
    "    print(os.path.isdir(rough_subdir_fullpath))"
   ]
  },
  {
   "cell_type": "markdown",
   "metadata": {},
   "source": [
    "## make list of all available roughness file patterns for specific day"
   ]
  },
  {
   "cell_type": "code",
   "execution_count": 10,
   "metadata": {},
   "outputs": [
    {
     "name": "stdout",
     "output_type": "stream",
     "text": [
      "-> processing orbit= 70710\n",
      "-> looking for pattern= roughness_toa_refl_P092_O070710*.dat\n",
      "0\n",
      "[]\n",
      "-> processing orbit= 70711\n",
      "-> looking for pattern= roughness_toa_refl_P092_O070711*.dat\n",
      "0\n",
      "[]\n",
      "-> processing orbit= 70712\n",
      "-> looking for pattern= roughness_toa_refl_P092_O070712*.dat\n",
      "0\n",
      "[]\n",
      "-> processing orbit= 70713\n",
      "-> looking for pattern= roughness_toa_refl_P092_O070713*.dat\n",
      "0\n",
      "[]\n",
      "-> processing orbit= 70714\n",
      "-> looking for pattern= roughness_toa_refl_P092_O070714*.dat\n",
      "0\n",
      "[]\n",
      "-> processing orbit= 70715\n",
      "-> looking for pattern= roughness_toa_refl_P092_O070715*.dat\n",
      "0\n",
      "[]\n",
      "-> processing orbit= 70716\n",
      "-> looking for pattern= roughness_toa_refl_P092_O070716*.dat\n",
      "0\n",
      "[]\n",
      "-> processing orbit= 70717\n",
      "-> looking for pattern= roughness_toa_refl_P092_O070717*.dat\n",
      "0\n",
      "[]\n",
      "-> processing orbit= 70718\n",
      "-> looking for pattern= roughness_toa_refl_P092_O070718*.dat\n",
      "0\n",
      "[]\n",
      "-> processing orbit= 70719\n",
      "-> looking for pattern= roughness_toa_refl_P092_O070719*.dat\n",
      "0\n",
      "[]\n",
      "-> processing orbit= 70720\n",
      "-> looking for pattern= roughness_toa_refl_P092_O070720*.dat\n",
      "0\n",
      "[]\n",
      "-> processing orbit= 70721\n",
      "-> looking for pattern= roughness_toa_refl_P092_O070721*.dat\n",
      "0\n",
      "[]\n",
      "-> processing orbit= 70722\n",
      "-> looking for pattern= roughness_toa_refl_P092_O070722*.dat\n",
      "0\n",
      "[]\n",
      "-> processing orbit= 70723\n",
      "-> looking for pattern= roughness_toa_refl_P092_O070723*.dat\n",
      "0\n",
      "[]\n",
      "-> processing orbit= 70724\n",
      "-> looking for pattern= roughness_toa_refl_P092_O070724*.dat\n",
      "0\n",
      "[]\n",
      "-> processing orbit= 70725\n",
      "-> looking for pattern= roughness_toa_refl_P092_O070725*.dat\n",
      "0\n",
      "[]\n"
     ]
    }
   ],
   "source": [
    "for orbit in orbit_list:\n",
    "    print('-> processing orbit= %d' %orbit)\n",
    "    #~ make pattern \n",
    "    roughness_file_pattern = 'roughness_toa_refl_P092_O0'+str(orbit)+'*'+'.dat'\n",
    "    print('-> looking for pattern= %s' %roughness_file_pattern)\n",
    "    #~ search for file pattern and make a list\n",
    "    roughness_files_found_list = glob.glob(os.path.join(main_roughness_dir_fullpath, roughness_file_pattern))\n",
    "    print(len(roughness_files_found_list))\n",
    "    print(roughness_files_found_list)\n",
    "\n",
    "#     for rough_file_day in roughness_files_found_list:\n",
    "#         new_path = shutil.move(rough_file_day, rough_subdir_fullpath)\n",
    "#         print(new_path)\n",
    "    \n",
    "    "
   ]
  },
  {
   "cell_type": "code",
   "execution_count": null,
   "metadata": {},
   "outputs": [],
   "source": []
  }
 ],
 "metadata": {
  "kernelspec": {
   "display_name": "Python 2",
   "language": "python",
   "name": "python2"
  },
  "language_info": {
   "codemirror_mode": {
    "name": "ipython",
    "version": 2
   },
   "file_extension": ".py",
   "mimetype": "text/x-python",
   "name": "python",
   "nbconvert_exporter": "python",
   "pygments_lexer": "ipython2",
   "version": "2.7.16"
  }
 },
 "nbformat": 4,
 "nbformat_minor": 2
}
