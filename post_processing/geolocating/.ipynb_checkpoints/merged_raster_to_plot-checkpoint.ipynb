{
 "cells": [
  {
   "cell_type": "code",
   "execution_count": 1,
   "metadata": {},
   "outputs": [],
   "source": [
    "import numpy as np\n",
    "import os, glob\n",
    "import gdal, osr # python2.7\n",
    "# import MisrToolkit as Mtk # python2.7\n",
    "# from MisrToolkit import * # \n",
    "# from subprocess import call\n",
    "# import datetime as dt\n",
    "from matplotlib import pyplot as plt "
   ]
  },
  {
   "cell_type": "code",
   "execution_count": 2,
   "metadata": {},
   "outputs": [
    {
     "name": "stdout",
     "output_type": "stream",
     "text": [
      "-> input raster exists!\n"
     ]
    }
   ],
   "source": [
    "geotif_file = '/Volumes/Ehsanm_DRI/research/MISR/roughness_files/roughArrays_40_173_174_175_smaller_set/roughArrays_40_173_174_175_smaller_set_reproPolar_test1/merging/reprojPolar/merged_path_40_173_174_175_polar.tif'\n",
    "\n",
    "#~ check if ratster exist\n",
    "if (os.path.isfile(geotif_file)):\n",
    "    print('-> input raster exists!')"
   ]
  },
  {
   "cell_type": "code",
   "execution_count": 3,
   "metadata": {},
   "outputs": [
    {
     "name": "stdout",
     "output_type": "stream",
     "text": [
      "<type 'dict'>\n"
     ]
    }
   ],
   "source": [
    "#~ raster2array: read data from raster in to array\n",
    "dataset = gdal.Open(geotif_file)\n",
    "raster = dataset.GetRasterBand(1)\n",
    "\n",
    "metadata = {}\n",
    "print(type(metadata))\n"
   ]
  },
  {
   "cell_type": "code",
   "execution_count": 4,
   "metadata": {},
   "outputs": [
    {
     "name": "stdout",
     "output_type": "stream",
     "text": [
      "rows: 15382\n",
      "columns: 7772\n"
     ]
    }
   ],
   "source": [
    "metadata['array_rows'] = dataset.RasterYSize\n",
    "metadata['array_cols'] = dataset.RasterXSize\n",
    "\n",
    "print('rows: %s' % metadata['array_rows'])\n",
    "print('columns: %s' % metadata['array_cols'])"
   ]
  },
  {
   "cell_type": "code",
   "execution_count": 13,
   "metadata": {},
   "outputs": [
    {
     "name": "stdout",
     "output_type": "stream",
     "text": [
      "(-674422.8959060248, 222.4381423923302, 0.0, 1748513.025259875, 0.0, -222.4381423923302)\n",
      "order of geoTransform matrix: tlX, pixelW, 0, tlY, 0, pixelH\n"
     ]
    }
   ],
   "source": [
    "geotransform = dataset.GetGeoTransform()\n",
    "print(geotransform) # note: units in meters\n",
    "print('order of geoTransform matrix= tlX, pixelW, 0, tlY, 0, pixelH')"
   ]
  },
  {
   "cell_type": "code",
   "execution_count": 6,
   "metadata": {},
   "outputs": [],
   "source": [
    "xMin = geotransform[0]\n",
    "xMax = geotransform[0] + dataset.RasterXSize*geotransform[1] # i changed it to * to get xMax value\n",
    "yMin = geotransform[3] + dataset.RasterYSize*geotransform[5]\n",
    "yMax = geotransform[3]"
   ]
  },
  {
   "cell_type": "code",
   "execution_count": 7,
   "metadata": {},
   "outputs": [
    {
     "name": "stdout",
     "output_type": "stream",
     "text": [
      "-674422.895906\n",
      "1054366.34677\n",
      "-1673030.48102\n",
      "1748513.02526\n"
     ]
    }
   ],
   "source": [
    "print(xMin)\n",
    "print(xMax)\n",
    "print(yMin)\n",
    "print(yMax)"
   ]
  },
  {
   "cell_type": "code",
   "execution_count": 8,
   "metadata": {},
   "outputs": [],
   "source": [
    "# metadata['extent'] = (xMin,xMax,yMin,yMax)\n",
    "plot_extent = (xMin,xMax,yMin,yMax)"
   ]
  },
  {
   "cell_type": "code",
   "execution_count": 9,
   "metadata": {},
   "outputs": [],
   "source": [
    "array_shape = raster.ReadAsArray(0,0,metadata['array_cols'],metadata['array_rows']).astype(np.float).shape # check this f()\n",
    "\n",
    "array = np.zeros((array_shape[0], array_shape[1], dataset.RasterCount), dtype='uint8') # check f() arguments"
   ]
  },
  {
   "cell_type": "code",
   "execution_count": 10,
   "metadata": {},
   "outputs": [],
   "source": [
    "array = dataset.GetRasterBand(1).ReadAsArray(0, 0, metadata['array_cols'], metadata['array_rows']).astype(np.float) # check in dtyp, how set to Byte??"
   ]
  },
  {
   "cell_type": "code",
   "execution_count": 11,
   "metadata": {},
   "outputs": [
    {
     "name": "stdout",
     "output_type": "stream",
     "text": [
      "array min: 0.0\n",
      "array max: 255.0\n"
     ]
    }
   ],
   "source": [
    "print('array min: %s' % array.min())\n",
    "print('array max: %s' % array.max())"
   ]
  },
  {
   "cell_type": "code",
   "execution_count": 12,
   "metadata": {},
   "outputs": [
    {
     "data": {
      "image/png": "[encoded data removed]",
      "text/plain": [
       "<Figure size 432x288 with 1 Axes>"
      ]
     },
     "metadata": {
      "needs_background": "light"
     },
     "output_type": "display_data"
    }
   ],
   "source": [
    "plot = plt.imshow(array, extent=plot_extent) #, extent=spatial_extent, clim=colorlimit); "
   ]
  },
  {
   "cell_type": "code",
   "execution_count": null,
   "metadata": {},
   "outputs": [],
   "source": []
  }
 ],
 "metadata": {
  "kernelspec": {
   "display_name": "Python 2",
   "language": "python",
   "name": "python2"
  },
  "language_info": {
   "codemirror_mode": {
    "name": "ipython",
    "version": 2
   },
   "file_extension": ".py",
   "mimetype": "text/x-python",
   "name": "python",
   "nbconvert_exporter": "python",
   "pygments_lexer": "ipython2",
   "version": "2.7.16"
  }
 },
 "nbformat": 4,
 "nbformat_minor": 2
}
