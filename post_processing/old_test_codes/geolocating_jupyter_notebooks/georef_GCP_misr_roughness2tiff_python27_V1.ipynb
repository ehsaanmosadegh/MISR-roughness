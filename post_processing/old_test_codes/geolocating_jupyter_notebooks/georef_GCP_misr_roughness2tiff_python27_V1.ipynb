{
 "cells": [
  {
   "cell_type": "code",
   "execution_count": 1,
   "metadata": {},
   "outputs": [],
   "source": [
    "import numpy as np\n",
    "import os, glob\n",
    "import gdal, osr # python2.7\n",
    "# import rasterio # python2.7\n",
    "# from osgeo import gdal\n",
    "import MisrToolkit as Mtk # python2.7\n",
    "from MisrToolkit import * # "
   ]
  },
  {
   "cell_type": "markdown",
   "metadata": {},
   "source": [
    "## my assumptions"
   ]
  },
  {
   "cell_type": "code",
   "execution_count": 2,
   "metadata": {},
   "outputs": [],
   "source": [
    "path_num = 180\n",
    "misr_img_res = (512, 2048)\n",
    "# img_nrows = misr_img_dims[0]\n",
    "# img_ncols = misr_img_dims[1]\n",
    "misr_res_meter = 275"
   ]
  },
  {
   "cell_type": "markdown",
   "metadata": {},
   "source": [
    "## My functions in this code"
   ]
  },
  {
   "cell_type": "markdown",
   "metadata": {},
   "source": [
    "### file path checker"
   ]
  },
  {
   "cell_type": "code",
   "execution_count": 3,
   "metadata": {},
   "outputs": [],
   "source": [
    "def file_fullpath_checker(file_fulPath):\n",
    "    \"this function checks if \"\n",
    "    if not os.path.isfile(file_fulPath):\n",
    "        print(\"-> ERROR: file or directory NOT available!\")\n",
    "        print(file_fulPath)\n",
    "    else:\n",
    "        print(\"-> file available!\")\n",
    "    return 0"
   ]
  },
  {
   "cell_type": "markdown",
   "metadata": {},
   "source": [
    "### raster file name"
   ]
  },
  {
   "cell_type": "code",
   "execution_count": 4,
   "metadata": {},
   "outputs": [],
   "source": [
    "def setup_rastername(output_filename, raster_dir_fullpath):\n",
    "    \"setup directory and file name for output raster\"\n",
    "    #~ set raster label \n",
    "    raster_label = \"LatLon_degreeRes_NorthUp_perspectiveTrans\"\n",
    "    #~ define output raster\n",
    "    raster_name = output_filename+'_'+raster_label+'.tif'\n",
    "    # print(raster_name)\n",
    "    #~ define raster output dir\n",
    "    raster_fullPath = os.path.join(raster_dir_fullpath, raster_name)\n",
    "    print(\"-> output raster: %s\" % (raster_name))\n",
    "    # print(\"-> output raster fullPath:\")\n",
    "    print(raster_fullPath)\n",
    "    return raster_fullPath"
   ]
  },
  {
   "cell_type": "markdown",
   "metadata": {},
   "source": [
    "### swap y-coords of SMO(x,y)"
   ]
  },
  {
   "cell_type": "code",
   "execution_count": 5,
   "metadata": {},
   "outputs": [],
   "source": [
    "# def swap_ul_lr_y_coord(ulc_tuple, lrc_tuple):\n",
    "#     \"we need this for SOMxy if we are using SOM\"\n",
    "#     print('-> corner-elements swap mode: \"swap_ul_lr_y_coord\"')\n",
    "#     #~ use top left corner or each block to define corners of block1\n",
    "#     #~ We swap them based on MISR docs, values are in SOM projection\n",
    "#     ulc_somx = ulc_tuple[0] # somx\n",
    "#     ulc_somy = lrc_tuple[1] # tl somy is swapped with brc somy\n",
    "\n",
    "#     lrc_somx = lrc_tuple[0] # as lon\n",
    "#     lrc_somy = ulc_tuple[1] # as lat\n",
    "\n",
    "#     ulc_som = (ulc_somx, ulc_somy)\n",
    "#     lrc_som = (lrc_somx, lrc_somy)\n",
    "    \n",
    "    \n",
    "#     print(\"-> ulc y-swapped= %s, %s \" %(ulc_somx, ulc_somy))\n",
    "#     print(\"-> lrc y-swapped= %s, %s \" %(lrc_somx, lrc_somy))\n",
    "#     # proj_param_res = proj_param_obj.resolution\n",
    "#     # print(\"-> resolution from projParam: %d\" % proj_param_res)\n",
    "#     return ulc_som, lrc_som"
   ]
  },
  {
   "cell_type": "markdown",
   "metadata": {},
   "source": [
    "### raster resolution"
   ]
  },
  {
   "cell_type": "code",
   "execution_count": 6,
   "metadata": {},
   "outputs": [],
   "source": [
    "# def setup_raster_resolution(ulc_lat_b1, ulc_lon_b1, lrc_lat_b1, lrc_lon_b1, img_ncols, img_nrows):\n",
    "#     \"calculate resolution for each block\"\n",
    "#     print(\"-> note: output res is in degrees.\")\n",
    "#     print(\"-> check inputs:\")\n",
    "#     print(\"ulc_lat_b1= %d\" % ulc_lat_b1)\n",
    "#     print(\"ulc_lon_b1= %d\" % ulc_lon_b1)\n",
    "#     print(\"lrc_lat_b1= %d\" % lrc_lat_b1)\n",
    "#     print(\"lrc_lon_b1= %d\" % lrc_lon_b1)\n",
    "    \n",
    "#     #~ define resolution of each roughness img in degrees, based on science docs\n",
    "#     cell_width_res = abs((lrc_lon_b1 - ulc_lon_b1) / float(img_ncols))\n",
    "#     cell_height_res = abs((lrc_lat_b1 - ulc_lat_b1) / float(img_nrows))\n",
    "#     print(\"-> W-res, H-res: %s, %s, in degrees\" % (cell_width_res, cell_height_res))\n",
    "#     return cell_width_res, cell_height_res"
   ]
  },
  {
   "cell_type": "markdown",
   "metadata": {},
   "source": [
    "### extract corners by using Mtk-bls2latlon"
   ]
  },
  {
   "cell_type": "code",
   "execution_count": 7,
   "metadata": {},
   "outputs": [],
   "source": [
    "def extract_block_corners_bls2latlon(path_num, misr_res_meter, block_num):    \n",
    "    #~ in MISR view frame == North-down, ordered in clockwise manner from ulc\n",
    "    #~ img pixels are 0-based\n",
    "\n",
    "    img_ulc_dd = bls_to_latlon(path_num, misr_res_meter, block_num, 0, 0)       \n",
    "    img_urc_dd = bls_to_latlon(path_num, misr_res_meter, block_num, 0, 2047)\n",
    "    img_lrc_dd = bls_to_latlon(path_num, misr_res_meter, block_num, 511, 2047)\n",
    "    img_llc_dd = bls_to_latlon(path_num, misr_res_meter, block_num, 511, 0)\n",
    "\n",
    "    #~ note: from MISR perspective which is North-down\n",
    "    print(\"extracted block corners for block %d:\" % block_num)\n",
    "    print(\"img_ulc: (%f, %f)\" % img_ulc_dd)\n",
    "    print(\"img_urc: (%f, %f)\" % img_urc_dd) \n",
    "    print(\"img_lrc: (%f, %f)\" % img_lrc_dd) \n",
    "    print(\"img_llc: (%f, %f)\" % img_llc_dd)\n",
    "    print(\"\\n\")\n",
    "    \n",
    "    return img_ulc_dd, img_urc_dd, img_lrc_dd, img_llc_dd"
   ]
  },
  {
   "cell_type": "markdown",
   "metadata": {},
   "source": [
    "### raster-to-array --> North Down-Img ULC=origin ***"
   ]
  },
  {
   "cell_type": "code",
   "execution_count": 8,
   "metadata": {},
   "outputs": [],
   "source": [
    "def array2raster_NorthDown_ImgULCAsOrigin(geotransform_rotated, ulc_lat, ulc_lon, width_pixel_res, height_pixel_res, nrows_img, ncols_img, raster_fullPath, roughness_array):\n",
    "    \"this function writes out the roughness image as a georeferenced tif file.\"\n",
    "    \"we use NorthUp notation in this function which assumes lookig at blocks in world crs/frame.\"\n",
    "\n",
    "    print(\"-> using North-up (world CRS perspective) + img lrc as the origin of raster/block.\")\n",
    "\n",
    "    # reversed_arr = roughness_array[::-1] # reverse array so the tif looks like the array\n",
    "    #~ define band and numeric type\n",
    "    bands_num = 1\n",
    "    datatype = gdal.GDT_Float32\n",
    "    raster_epsg_code = 4326  # EPSG code for lat-lon # what is the ellipsoid information of this ellipsoid???\n",
    "    x_rotation = 0 # 0 degrees if image is “North Up” , not supported!\n",
    "    y_rotation = 0 # 0 degrees if image is “North Up” , not supported!\n",
    "    \n",
    "    print('-> input2raster: to write the raster we use MISR lrc as GDAL/world frame block origin (ulc)- lat,lon= %f, %f. ' % (ulc_lat, ulc_lon))\n",
    "\n",
    "    #~ note: we define the area that will be covered to define the geo tranform; # units in degrees because our output raster is in lat-lon\n",
    "    #~ parameter order: \n",
    "    #~ top left x (meters or degrees), w-e pixel resolution, rotation, top left y (meters or degrees), rotation, n-s pixel resolution; output units in map coords\n",
    "    \n",
    "    #geotransform_matrix = (lrc_lon, width_pixel_res, x_rotation, lrc_lat, y_rotation, -height_pixel_res) # note: negative flips the img over y-axis (in img coord. sys.), because we count from the UL corner to down\n",
    "\n",
    "    #~ create output raster and setup driver=GTiff\n",
    "    driver = gdal.GetDriverByName('GTiff')  # Initialize driver\n",
    "    out_raster = driver.Create(raster_fullPath, ncols_img, nrows_img, bands_num, datatype)  # create output raster (img+georefrenced info) dataseet to write data into it (raster_fullPath, ncols_rough_arr, nrows_rough_arr, bands, dtype-> GDAL data type arg)\n",
    "    out_raster.SetGeoTransform(geotransform_rotated)  # Set the affine transformation coefficients == Specify raster coordinates\n",
    "\n",
    "    outband = out_raster.GetRasterBand(bands_num)\n",
    "    outband.WriteArray(roughness_array)\n",
    "\n",
    "    crs = osr.SpatialReference()\n",
    "    crs.ImportFromEPSG(raster_epsg_code)\n",
    "    # print(\"-> outout frame: %s\" % crs.ExportToWkt())\n",
    "    out_raster.SetProjection(crs.ExportToWkt())\n",
    "    outband.FlushCache()\n",
    "\n",
    "    #~ Once we're done, close the dataset properly\n",
    "    out_raster = None\n",
    "    outband = None\n",
    "    print(\"-> FINISHED SUCCESS!\")\n",
    "    print(raster_fullPath)\n",
    "    return 0\n",
    "\n",
    "\n",
    "\n"
   ]
  },
  {
   "cell_type": "markdown",
   "metadata": {},
   "source": [
    "### setup pixel size "
   ]
  },
  {
   "cell_type": "code",
   "execution_count": 9,
   "metadata": {},
   "outputs": [],
   "source": [
    "# rasterx = 2048 # img W , img_ncols\n",
    "# rastery = 512  # img H , img_nrows\n",
    "\n",
    "# def setup_pixel_size_new(ulc, lrc, img_ncols, img_nrows):\n",
    "#     #~ pixel size \n",
    "#     #x-component of the pixel width (x scale)\n",
    "#     x_size = (ulc[1]-lrc[1])/img_ncols  # pixel-x-size; rasterx, ppx\n",
    "#     # y-component of the pixel height (y scale)\n",
    "#     y_size = (ulc[0]-lrc[0])/img_nrows  # pixel-y-size, rastery, ppy\n",
    "\n",
    "#     print(\"-> each pixel size x&y (lon&lat) in degrees:\")\n",
    "#     print(x_size, y_size)  # W-res, H-res --> lon-lat\n",
    "    \n",
    "#     return x_size, y_size\n",
    "\n",
    "\n",
    "def setup_pixel_size_new(img_ulc_dd, img_lrc_dd, misr_img_res):\n",
    "    #x-component of the pixel width (x scale)\n",
    "    pixel_w = abs((img_ulc_dd[1]-img_lrc_dd[1])/misr_img_res[1])  # pixel-x-size; rasterx, ppx\n",
    "    # y-component of the pixel height (y scale)\n",
    "    pixel_h = abs((img_ulc_dd[0]-img_lrc_dd[0])/misr_img_res[0])  # pixel-y-size, rastery, ppy\n",
    "    #~ create a tuple\n",
    "    pixel_size = (pixel_w, pixel_h)\n",
    "\n",
    "    print(\"-> pixel size (w,h) in degrees:\")\n",
    "    print (pixel_size) # W-res, H-res --> lon-lat\n",
    "    \n",
    "    return pixel_size\n",
    "\n",
    "\n",
    "# -> W-res, H-res: 0.00622356965449, 0.000917900200359, each pixel x&y size in degrees; \n"
   ]
  },
  {
   "cell_type": "markdown",
   "metadata": {},
   "source": [
    "### geotrnsform matrix --> with gdal and the 4 corners points as ground control points (GCP)"
   ]
  },
  {
   "cell_type": "code",
   "execution_count": 10,
   "metadata": {},
   "outputs": [],
   "source": [
    "# def perspective_transformation_original(img_nrows, img_ncols, ulc, urc, lrc, llc, pixel_size):\n",
    "#     \"we use this function with North-up notation to define 4 corners of a block\"\n",
    "#     \"usage: we use 4 corners as GCPs (ground control points) to define an area in geographic CRS\"\n",
    "#     \"note: inut parameters are in img frame starting from MISR ulc\"\n",
    "    \n",
    "#     # geotransform_rotated = perspective_transformation(img_ncols, img_nrows, llc, lrc, urc, ulc)  \n",
    "\n",
    "#     print(\"\\n -> computing Perspective Transformation:\")\n",
    "#     print(\"-> order of parameters input to geoTrans:\")\n",
    "#     print(img_nrows, img_ncols, ulc, urc, lrc, llc, pixel_size)\n",
    "    \n",
    "#     #~ img frame\n",
    "#     fp = [[0, img_ncols, img_ncols, 0],     # img columns; x-dir\n",
    "#           [0, 0, img_nrows, img_nrows]]      # img rows; y-dir\n",
    "\n",
    "#     #~ world frame\n",
    "#     tp = [[llc[1], lrc[1], urc[1],ulc[1]],         # lon\n",
    "#           [llc[0], lrc[0], urc[0],ulc[0]]]          # lat\n",
    "\n",
    "#     pix = list(zip(fp[0],fp[1])) # pixel corners\n",
    "#     print(\"-> pix:\")\n",
    "#     for i in pix:\n",
    "#         print(i)\n",
    "\n",
    "#     coor = list(zip(tp[0],tp[1])) # corner coordinates\n",
    "#     print(\"-> coor:\")\n",
    "#     for j in coor:\n",
    "#         print(j)\n",
    "\n",
    "#     # compute the gdal.GCP parameters\n",
    "#     gcps = []  # ground control points\n",
    "#     for index, txt in enumerate(pix):\n",
    "#         #~ adding GCPs to a list\n",
    "#         gcps.append(gdal.GCP())\n",
    "#         gcps[index].GCPPixel = pix[index][0]\n",
    "#         #gcps[index].GCPLine = rastery-int(pix[index][1])\n",
    "#         gcps[index].GCPLine = pixel_size[1]-int(pix[index][1])\n",
    "\n",
    "#         gcps[index].GCPX = coor[index][0]\n",
    "#         gcps[index].GCPY = coor[index][1]\n",
    "\n",
    "#     geotransform_rotated = gdal.GCPsToGeoTransform(gcps)\n",
    "#     print(\"-> geotransform_rotated matrix: \\n top-left X, w-e pixel size, rotation, top-left Y, rotation, n-s pixel size; output units in map coords\")\n",
    "#     print(geotransform_rotated)\n",
    "# #     geotransform_rotated_2 = geotransform_rotated[:-1]*-1\n",
    "# #     print(\"-> now\" % geotransform_rotated_2)\n",
    "#     print(\"\\n\")\n",
    "    \n",
    "#     return geotransform_rotated"
   ]
  },
  {
   "cell_type": "code",
   "execution_count": 11,
   "metadata": {},
   "outputs": [],
   "source": [
    "def geoT_Ndown(img_nrows, img_ncols, ulc, urc, lrc, llc, pixel_size):  \n",
    "    \"we use this function with North-up notation to define 4 corners of a block\"\n",
    "    \"usage: we use 4 corners as GCPs (ground control points) to define an area in geographic CRS\"\n",
    "    \"note: inut parameters are in img frame starting from MISR ulc\"\n",
    "    \"reference: https://gdal.org/user/raster_data_model.html#gcps\"\n",
    "    #~ to do h_reverese make it on==1\n",
    "    h_reverse=0\n",
    "\n",
    "    print(\"\\n -> computing Perspective Transformation:\")\n",
    "    print(\"-> order of parameters input to geoTrans:\")\n",
    "    print(img_nrows, img_ncols, ulc, urc, lrc, llc, pixel_size)\n",
    "    \n",
    "    #~ img frame, NorthDown & from ulc+clockwise\n",
    "    fp = [[0,  img_ncols, img_ncols,          0],     # img columns; x-dir\n",
    "           [0,         0, img_nrows,  img_nrows]]      # img rows; y-dir\n",
    "    \n",
    "\n",
    "    #~ geographic/world frame, NorthDown ulc+clockwise -> note: these locations are 4 raster corners \n",
    "#     tp = [[llc[1], lrc[1], urc[1], ulc[1]],         # lon\n",
    "#           [llc[0], lrc[0], urc[0], ulc[0]]]          # lat\n",
    "\n",
    "    tp = [[ulc[1], urc[1], lrc[1], llc[1]],         # lon\n",
    "          [ulc[0], urc[0], lrc[0], llc[0]]]          # lat\n",
    "\n",
    "    #~ pixel corners\n",
    "    pixel_coord = list(zip(fp[0],fp[1])) \n",
    "    print(\"-> pix:\")\n",
    "    for i in pixel_coord:\n",
    "        print(i)\n",
    "\n",
    "    #~ geographic coordinates\n",
    "    coor = list(zip(tp[0],tp[1])) \n",
    "    print(\"-> coor:\")\n",
    "    for j in coor:\n",
    "        print(j)\n",
    "\n",
    "    # compute the gdal.GCP parameters\n",
    "    gcp_list = []  # ground control points\n",
    "    \n",
    "    for index, txt in enumerate(pixel_coord):\n",
    "        \n",
    "        #~ adding GCPs to a list\n",
    "        gcp_list.append(gdal.GCP())  # initialize GCP dataStruct\n",
    "        gcp_list[index].GCPPixel = pixel_coord[index][0] # row\n",
    "        #gcp_list[index].GCPLine = pixel_size[0]-int(pixel_coord[index][1]) # i modified; column\n",
    "        gcp_list[index].GCPLine = pixel_coord[index][1] # i modified here; column\n",
    "        print(\"GCP pixel&line: %d, %d\" % (pixel_coord[index][0], pixel_coord[index][1]))\n",
    "        #gcp_list[index].GCPLine = rastery     -int(pix[index][1]) # old\n",
    "        \n",
    "        gcp_list[index].GCPX = coor[index][0]\n",
    "        gcp_list[index].GCPY = coor[index][1]\n",
    "        print(\"GCP X,Y: %f, %f\" % (coor[index][0], coor[index][1]))\n",
    "\n",
    "    geoT_rotated = gdal.GCPsToGeoTransform(gcp_list)\n",
    "    \n",
    "    print(\"-> geoT_rotated: \\n top-left X, w-e pixel size, rotation, top-left Y, rotation, n-s pixel size; output units in map coords\")\n",
    "    print(geoT_rotated)\n",
    "    print(\"\\n\")\n",
    "\n",
    "#     if (h_reverse):\n",
    "#         print(\"-> h_reverse is on...\")\n",
    "#         #~ unpack tuple to reverse h value\n",
    "#         (lon_ulc, w_pix, rotX, lon, rotY, h_pix) = geotransform_rotated\n",
    "#         h_pix_reversed = h_pix*-1\n",
    "\n",
    "#         #~ now pack everything back to a tuple\n",
    "#         geotransform_rotated_Hreversed = (lon_ulc, w_pix, rotX, lon, rotY, h_pix_reversed)\n",
    "#         print(geotransform_rotated_Hreversed)\n",
    "        \n",
    "#         return geoT_rotated_Hreversed\n",
    "#         print(\"\\n\")\n",
    "        \n",
    "#     else:\n",
    "    return geoT_rotated"
   ]
  },
  {
   "cell_type": "markdown",
   "metadata": {},
   "source": [
    "### raster-to-array North-up+lrc as origin (world crs)"
   ]
  },
  {
   "cell_type": "code",
   "execution_count": 12,
   "metadata": {},
   "outputs": [],
   "source": [
    "def arr2ras_Nup_ImgLRC(geotransform_rotated, width_pixel_res, height_pixel_res, nrows_img, ncols_img, raster_fullPath, roughness_array):\n",
    "    \"this function writes out the roughness image as a georeferenced tif file.\"\n",
    "    \"we use NorthUp notation in this function which assumes lookig at blocks in world crs/frame.\"\n",
    "\n",
    "    print(\"-> using North-up (world CRS perspective) + img lrc as the origin of raster/block.\")\n",
    "\n",
    "    # reversed_arr = roughness_array[::-1] # reverse array so the tif looks like the array\n",
    "    #~ define band and numeric type\n",
    "    bands_num = 1\n",
    "    datatype = gdal.GDT_Float32\n",
    "    raster_epsg_code = 4326  # EPSG code for lat-lon # what is the ellipsoid information of this ellipsoid???\n",
    "    x_rotation = 0 # 0 degrees if image is “North Up” , not supported!\n",
    "    y_rotation = 0 # 0 degrees if image is “North Up” , not supported!\n",
    "    \n",
    "#     print('-> input2raster: to write the raster we use MISR lrc as GDAL/world frame block origin (ulc)- lat,lon= %f, %f' % (lrc_lat, lrc_lon))\n",
    "\n",
    "    #~ note: we define the area that will be covered to define the geo tranform; # units in degrees because our output raster is in lat-lon\n",
    "    #~ parameter order: \n",
    "    #~ top left x (meters or degrees), w-e pixel resolution, rotation, top left y (meters or degrees), rotation, n-s pixel resolution; output units in map coords\n",
    "    \n",
    "    #geotransform_matrix = (lrc_lon, width_pixel_res, x_rotation, lrc_lat, y_rotation, -height_pixel_res) # note: negative flips the img over y-axis (in img coord. sys.), because we count from the UL corner to down\n",
    "\n",
    "    #~ create output raster and setup driver=GTiff\n",
    "    driver = gdal.GetDriverByName('GTiff')  # Initialize driver\n",
    "    out_raster = driver.Create(raster_fullPath, ncols_img, nrows_img, bands_num, datatype)  # create output raster (img+georefrenced info) dataseet to write data into it (raster_fullPath, ncols_rough_arr, nrows_rough_arr, bands, dtype-> GDAL data type arg)\n",
    "    out_raster.SetGeoTransform(geotransform_rotated)  # Set the affine transformation coefficients == Specify raster coordinates\n",
    "\n",
    "    outband = out_raster.GetRasterBand(bands_num)\n",
    "    outband.WriteArray(roughness_array)\n",
    "\n",
    "    crs = osr.SpatialReference()\n",
    "    crs.ImportFromEPSG(raster_epsg_code)\n",
    "    # print(\"-> outout frame: %s\" % crs.ExportToWkt())\n",
    "    out_raster.SetProjection(crs.ExportToWkt())\n",
    "    outband.FlushCache()\n",
    "\n",
    "    #~ Once we're done, close the dataset properly\n",
    "    out_raster = None\n",
    "    outband = None\n",
    "    print(\"-> FINISHED SUCCESS!\")\n",
    "    print(raster_fullPath)\n",
    "    return 0\n",
    "\n",
    "\n",
    "\n"
   ]
  },
  {
   "cell_type": "markdown",
   "metadata": {},
   "source": [
    "# -----> main()"
   ]
  },
  {
   "cell_type": "markdown",
   "metadata": {},
   "source": [
    "## check files and directories"
   ]
  },
  {
   "cell_type": "code",
   "execution_count": 13,
   "metadata": {},
   "outputs": [
    {
     "name": "stdout",
     "output_type": "stream",
     "text": [
      "-> file available!\n",
      "/Users/ehsanmos/Documents/RnD/Ehsan_lab_MISR/hdf_dir.nosync/MISR_AM1_GRP_ELLIPSOID_GM_P180_O088147_AN_F03_0024.hdf\n",
      "-> file available!\n",
      "/Users/ehsanmos/Documents/RnD/Ehsan_lab_MISR/roughness_dir/roughness_P180_O088147_B001.dat\n",
      "-> file available!\n",
      "/Users/ehsanmos/Documents/RnD/Ehsan_lab_MISR/roughness_dir/roughness_P180_O088147_B002.dat\n",
      "/Users/ehsanmos/Documents/RnD/Ehsan_lab_MISR/raster_dir.nosync\n"
     ]
    }
   ],
   "source": [
    "root = \"/Users/ehsanmos/Documents/RnD/Ehsan_lab_MISR/\"\n",
    "\n",
    "hdf_dir = os.path.join(root, \"hdf_dir.nosync\")  # Mtk projparam\n",
    "# misr_dir = \"/Volumes/Ehsanm_DRI/research/MISR/July_2016/July_01\" # test for manual check of ProjParam\n",
    "hdf_file = \"MISR_AM1_GRP_ELLIPSOID_GM_P180_O088147_AN_F03_0024.hdf\" # projParam from Mtk\n",
    "# misr_file = \"MISR_AM1_GRP_ELLIPSOID_GM_P233_O087961_CF_F03_0024.hdf\" # for manual projParam\n",
    "misr_file_fulPath = os.path.join(hdf_dir, hdf_file)\n",
    "\n",
    "file_fullpath_checker(misr_file_fulPath)\n",
    "print(misr_file_fulPath)\n",
    "\n",
    "roughness_dir = \"roughness_dir\"\n",
    "roughness_dir = os.path.join(root, roughness_dir)\n",
    "\n",
    "#~ roughness files\n",
    "roughness_file_b1 = \"roughness_P180_O088147_B001.dat\"\n",
    "roughness_file_b2 = \"roughness_P180_O088147_B002.dat\"\n",
    "\n",
    "roughness_file_b1_fullPath = os.path.join(roughness_dir, roughness_file_b1)\n",
    "roughness_file_b2_fullPath = os.path.join(roughness_dir, roughness_file_b2)\n",
    "\n",
    "#~ chech file path\n",
    "# print(roughness_file_fullPath.split(\"/\")[-1])\n",
    "file_fullpath_checker(roughness_file_b1_fullPath)\n",
    "print(roughness_file_b1_fullPath)\n",
    "\n",
    "file_fullpath_checker(roughness_file_b2_fullPath)\n",
    "print(roughness_file_b2_fullPath)\n",
    "\n",
    "# print(roughness_file_fullPath)\n",
    "\n",
    "#~ define raster directory\n",
    "raster_dir = \"raster_dir.nosync\"\n",
    "raster_dir_fullpath = os.path.join(root, raster_dir)\n",
    "if not (os.path.isdir(raster_dir_fullpath)):\n",
    "    print(\"-> raster dir NOT available!\")\n",
    "else:\n",
    "    print(raster_dir_fullpath)\n"
   ]
  },
  {
   "cell_type": "markdown",
   "metadata": {},
   "source": [
    "## using Mtk \"bls_to_latlon\" to get corners"
   ]
  },
  {
   "cell_type": "code",
   "execution_count": 14,
   "metadata": {},
   "outputs": [],
   "source": [
    "# for blk in range(1,2,1):\n",
    "# print(Mtk.bls_to_latlon(180, 275, 1, 0, 0))\n",
    "# print(Mtk.bls_to_latlon(180, 275, 1, 511, 2047))\n",
    "# print(\"\\n\")\n",
    "# print(Mtk.bls_to_latlon(180, 275, 2, 0, 0))\n",
    "# print(Mtk.bls_to_latlon(180, 275, 2, 511, 2047))\n"
   ]
  },
  {
   "cell_type": "markdown",
   "metadata": {},
   "source": [
    "## using Mtk \"path_block_range_to_block_corners\" to get corners"
   ]
  },
  {
   "cell_type": "code",
   "execution_count": 15,
   "metadata": {},
   "outputs": [],
   "source": [
    "# block_corner_range_obj_dd = Mtk.MtkGeoBlock.llc.start_block.   #path_block_range_to_block_corners(180, 1, 1) #  (path, start block, end block)\n",
    "# # b1 = \n",
    "# block_corner_range_obj_dd.start_block\n",
    "# # len(b1)\n",
    "# b1\n",
    "\n",
    "\n",
    "# ulc = b1.ulc\n",
    "# print(\"ulc=\", ulc)\n",
    "# llc = b1.llc\n",
    "# print(\"llc=\", llc)\n",
    "# lrc = b1.lrc\n",
    "# print(\"lrc=\", lrc)\n",
    "# urc = b1.urc\n",
    "# print(\"urc=\", urc)\n",
    "\n",
    "\n",
    "\n",
    "# print(\"b-1 corner info:\")\n",
    "# print(b1.ulc)\n",
    "# print(b1.lrc)\n",
    "\n",
    "# print(\"\\n\")\n",
    "# b2 = block_range_obj.block[2]\n",
    "# print(b2.ulc)\n",
    "# print(b2.lrc)"
   ]
  },
  {
   "cell_type": "markdown",
   "metadata": {},
   "source": [
    "### extract corners by using Mtk-gridmethod (old)"
   ]
  },
  {
   "cell_type": "code",
   "execution_count": 16,
   "metadata": {},
   "outputs": [],
   "source": [
    "# def extract_block_corners_gridmethod(path_num, block_num, misr_res_meter):\n",
    "#     \"we extract block corners by using MtkRegion(), order does not matter, but is in image frame= ulc,...\"\n",
    "#     \"we use NorthDown perspetive in this function witch is the MISR camera perspective\"\n",
    "#     map_info = Mtk.MtkRegion(path_num, block_num, block_num).snap_to_grid(path_num, misr_res_meter)\n",
    "#     lon_list = map_info.create_latlon()[0]\n",
    "#     lat_list = map_info.create_latlon()[1]\n",
    "# #     print(lon_list.shape)\n",
    "\n",
    "#     #~ block corners, (lon, list)\n",
    "#     print(\"-> these coords are in North-Down perspetive (along MISR ground track):\")\n",
    "#     #~ ulc\n",
    "#     ulc = (lon_list[0,0], lat_list[0,0])\n",
    "#     print(\"-> ulc= %f, %f\" % (ulc))\n",
    "\n",
    "#     #~ llc\n",
    "#     llc = (lon_list[511, 0], lat_list[511, 0])\n",
    "#     print(\"-> llc= %f, %f\" % (llc))\n",
    "\n",
    "#     #~ lrc\n",
    "#     lrc = (lon_list[511, 2047], lat_list[511, 2047])\n",
    "#     print(\"-> lrc= %f, %f\" % (lrc))\n",
    "\n",
    "#     #~ urc\n",
    "#     urc = (lon_list[0,2047], lat_list[0,2047])\n",
    "#     print(\"-> urc= %f, %f\" % (urc))\n",
    "    \n",
    "    \n",
    "#     return ulc, urc, lrc, llc\n",
    "\n",
    "#     # latlon_b1_ulc = map_info.ls_to_latlon(0,0)\n",
    "#     # print(latlon_b1_ulc)\n",
    "#     # latlon_b1_lrc = map_info.ls_to_latlon(511,2047)\n",
    "#     # print(latlon_b1_lrc)"
   ]
  },
  {
   "cell_type": "markdown",
   "metadata": {},
   "source": [
    "## read roughness file and make roughness img \n",
    "and to get corners from previous research files\n",
    "This is still in image coordinates"
   ]
  },
  {
   "cell_type": "code",
   "execution_count": 17,
   "metadata": {},
   "outputs": [
    {
     "name": "stdout",
     "output_type": "stream",
     "text": [
      "-> roughness img-b1 new shape: 512,2048\n",
      "-> roughness img-b2 new shape: 512,2048\n"
     ]
    }
   ],
   "source": [
    "rough_file_b1 = np.fromfile(roughness_file_b1_fullPath, dtype='float64')     # is this roughness in cm?\n",
    "rough_file_b2 = np.fromfile(roughness_file_b2_fullPath, dtype='float64')\n",
    "\n",
    "# print(\"-> roughness file elements: %d\" % rough_file.size)\n",
    "# print(\"-> roughness file dim: %d\" % rough_file.ndim)\n",
    "# print(\"-> roughness file shape: %s\" % rough_file.shape)\n",
    "\n",
    "\n",
    "#~ get only the roughness values from file, roughness file has roughness-lat-lon in it as a list\n",
    "rough_list_b1 = rough_file_b1[0:1048576]\n",
    "rough_list_b2 = rough_file_b2[0:1048576]\n",
    "\n",
    "# lat_arr = rough_file[1048576:2097152]  # this is from MISR2Roughness.c code and from MtkBlsToLatLon().\n",
    "# lon_arr = rough_file[2097152:3145728]\n",
    "# print(\"-> directly from input array:\")\n",
    "# print(\"-> 1st lat element of list: %s\" % rough_file[1048576])\n",
    "# print(\"-> last lat element of list: %s\" % rough_file[2097151])\n",
    "\n",
    "# print(\"-> shape of rough_arr: %d\" % rough_arr.shape)\n",
    "# print(\"-> shape of lat_arr: %d\" % lat_arr.shape)\n",
    "# print(\"-> shape of lon_arr: %d\" % lon_arr.shape)\n",
    "\n",
    "#~ create 2D roughness array from list\n",
    "rough_img_b1 = rough_list_b1.reshape((512,2048))\n",
    "rough_img_b2 = rough_list_b2.reshape((512,2048))\n",
    "\n",
    "#~ increase img intensity by 10 to test things\n",
    "rough_img_b1 = rough_img_b1*10\n",
    "rough_img_b2 = rough_img_b2*10\n",
    "print(\"-> roughness img-b1 new shape: %d,%d\" % rough_img_b1.shape)\n",
    "print(\"-> roughness img-b2 new shape: %d,%d\" % rough_img_b2.shape)\n",
    "\n",
    "# lat_img = lat_arr.reshape((512,2048))\n",
    "# lon_img = lon_arr.reshape((512,2048))\n",
    "\n",
    "\n",
    "# print(\"-> rough arr reshaped: %s\" % type(roughness_img))\n",
    "# print(\"-> roughness file elements: %d\" % roughness_img.size)\n",
    "# print(\"-> roughness file new dim: %d\" % roughness_img.ndim)\n",
    "# print(\"-> roughness file new shape: %d,%d\" % roughness_img.shape)\n",
    "\n",
    "# print(lat_img[0,0], lon_img[0,0])\n",
    "# print(lat_img[-1,-1], lon_img[-1,-1])"
   ]
  },
  {
   "cell_type": "markdown",
   "metadata": {},
   "source": [
    "NOTE: so far we treid 3 diff ways to get 1st block corners and all 3 were the same."
   ]
  },
  {
   "cell_type": "markdown",
   "metadata": {},
   "source": [
    "## get ProjParam from Mtk"
   ]
  },
  {
   "cell_type": "code",
   "execution_count": 18,
   "metadata": {},
   "outputs": [],
   "source": [
    "# proj_param_obj = Mtk.MtkProjParam(misr_file_fulPath)\n",
    "# print(proj_param_obj.projparam)\n",
    "\n",
    "# offset_list = proj_param_obj.reloffset\n",
    "# # for j in offset_list:\n",
    "# #     print(j)\n",
    "\n",
    "# print(\"-> number of pixels in offset list: %d\" % len(offset_list))\n",
    "# # print(len(offset_list))\n",
    "# # print(sum(offset_list))"
   ]
  },
  {
   "cell_type": "markdown",
   "metadata": {},
   "source": [
    "## process hdf file for b1 ulc, lrc, projParam, offset tuple"
   ]
  },
  {
   "cell_type": "code",
   "execution_count": 19,
   "metadata": {},
   "outputs": [
    {
     "name": "stdout",
     "output_type": "stream",
     "text": [
      "-> file is: MISR_AM1_GRP_ELLIPSOID_GM_P180_O088147_AN_F03_0024.hdf\n",
      "-> projection parameter code: 22\n",
      "-> resolution from projParam: 1100\n",
      "-> number of offset pixels: 179\n",
      "-> offset/#pixels of origin/ulc of each block relative to the origin of its top block:\n",
      "(0.0, 16.0, 0.0, 16.0, 0.0, 0.0, 0.0, 16.0, 0.0, 0.0, 0.0, 0.0, 16.0, 0.0, 0.0, 0.0, 0.0, 0.0, 0.0, 0.0, 0.0, 0.0, 0.0, 0.0, 0.0, 0.0, -16.0, 0.0, 0.0, 0.0, -16.0, 0.0, 0.0, -16.0, 0.0, 0.0, -16.0, 0.0, -16.0, 0.0, -16.0, 0.0, -16.0, -16.0, 0.0, -16.0, 0.0, -16.0, -16.0, 0.0, -16.0, -16.0, -16.0, 0.0, -16.0, -16.0, -16.0, -16.0, 0.0, -16.0, -16.0, -16.0, -16.0, -16.0, -16.0, -16.0, -16.0, -16.0, -16.0, -16.0, -16.0, -16.0, -16.0, -16.0, -16.0, -16.0, -16.0, -16.0, -16.0, -16.0, -16.0, -16.0, -16.0, -16.0, -32.0, -16.0, -16.0, -16.0, -16.0, -16.0, -16.0, -16.0, -16.0, -16.0, -16.0, -32.0, -16.0, -16.0, -16.0, -16.0, -16.0, -16.0, -16.0, -16.0, -16.0, -16.0, -16.0, -16.0, -16.0, -16.0, -16.0, -16.0, -16.0, -16.0, -16.0, -16.0, -16.0, -16.0, -16.0, 0.0, -16.0, -16.0, -16.0, -16.0, -16.0, 0.0, -16.0, -16.0, -16.0, 0.0, -16.0, -16.0, 0.0, -16.0, 0.0, -16.0, -16.0, 0.0, -16.0, 0.0, -16.0, 0.0, 0.0, -16.0, 0.0, -16.0, 0.0, 0.0, -16.0, 0.0, 0.0, 0.0, 0.0, -16.0, 0.0, 0.0, 0.0, 0.0, 0.0, 0.0, 0.0, 0.0, 0.0, 0.0, 0.0, 0.0, 0.0, 0.0, 0.0, 0.0, 0.0, 16.0, 0.0, 0.0, 16.0, 0.0, 0.0, 16.0, 0.0)\n"
     ]
    }
   ],
   "source": [
    "print(\"-> file is: %s\" % hdf_file)\n",
    "proj_param_obj = Mtk.MtkProjParam(misr_file_fulPath)\n",
    "\n",
    "# print(\"-> ulc: (%d,%d) meters\" % proj_param_obj.ulc)\n",
    "\n",
    "print(\"-> projection parameter code: %s\" % proj_param_obj.projcode)\n",
    "b1_ulc_som = proj_param_obj.ulc  # order: (X,Y) = (lon,lat)\n",
    "b1_lrc_som  = proj_param_obj.lrc  # order: (X,Y) = (lon,lat)\n",
    "\n",
    "# # ground truth for reference\n",
    "# print(\"-> ulc SOM from hdf file: (%d,%d) meters\" % b1_ulc_som)\n",
    "# print(\"-> lrc SOM from hdf file: (%d,%d) meters\" % b1_lrc_som)\n",
    "\n",
    "# swap y-coords\n",
    "# b1_ulc_som_swaped, b1_lrc_som_swaped = swap_ul_lr_y_coord(b1_ulc_som, b1_lrc_som)\n",
    "\n",
    "#~ get proj res\n",
    "proj_param_res = proj_param_obj.resolution\n",
    "print(\"-> resolution from projParam: %d\" % proj_param_res)\n",
    "\n",
    "#~ get offset values\n",
    "offset = proj_param_obj.reloffset\n",
    "print(\"-> number of offset pixels: %s\" % len(offset))\n",
    "\n",
    "print(\"-> offset/#pixels of origin/ulc of each block relative to the origin of its top block:\")\n",
    "print(offset)"
   ]
  },
  {
   "cell_type": "markdown",
   "metadata": {},
   "source": [
    "## change b1 Mtk.somxy_to_latlon"
   ]
  },
  {
   "cell_type": "code",
   "execution_count": 20,
   "metadata": {},
   "outputs": [],
   "source": [
    "# # print(b1_ulc_som_swaped)\n",
    "# # print(b1_lrc_som_swaped)\n",
    "\n",
    "# b1_ulc_latlon = Mtk.somxy_to_latlon(path_num, b1_ulc_som_swaped[0], b1_ulc_som_swaped[1])  # order matters => to lat-lon of only ulc\n",
    "# b1_lrc_latlon = Mtk.somxy_to_latlon(path_num, b1_lrc_som_swaped[0], b1_lrc_som_swaped[1])  # order matters\n",
    "\n",
    "# print(b1_ulc_latlon)\n",
    "# print(b1_lrc_latlon)\n",
    "# #~ swap y-coords\n",
    "# # b1_ulc_latlon_swaped, b1_lrc_latlon_swaped = swap_ul_lr_y_coord(b1_ulc_latlon, b1_lrc_latlon)\n",
    "\n",
    "# # x_res = abs((b1_lr_lon-b1_ul_lon)/float(ncols_img))\n",
    "# # y_res = abs((b1_lr_lat-b1_ul_lat)/float(nrows_img))\n",
    "# # print(\"-> x_res: %s, y_res: %s\" % (x_res,y_res))"
   ]
  },
  {
   "cell_type": "markdown",
   "metadata": {},
   "source": [
    "## doing an example from Mtk src code"
   ]
  },
  {
   "cell_type": "code",
   "execution_count": 21,
   "metadata": {},
   "outputs": [],
   "source": [
    "# example_latlon = Mtk.somxy_to_latlon(1, 10529200.016621, 622600.018066)  # order matters => to lat-lon of only ulc\n",
    "# example_latlon"
   ]
  },
  {
   "cell_type": "markdown",
   "metadata": {},
   "source": [
    "## set up resolution"
   ]
  },
  {
   "cell_type": "code",
   "execution_count": 22,
   "metadata": {},
   "outputs": [],
   "source": [
    "# width_pixel_res, height_pixel_res = setup_raster_resolution(b1_ulc_latlon[0], b1_ulc_latlon[1], b1_lrc_latlon[0], b1_lrc_latlon[1], img_ncols, img_nrows)\n",
    "\n",
    "# pixel_x_size, pixel_y_size = setup_pixel_res_new(ulc, lrc, img_ncols, img_nrows)"
   ]
  },
  {
   "cell_type": "markdown",
   "metadata": {},
   "source": [
    "## writing block-1"
   ]
  },
  {
   "cell_type": "code",
   "execution_count": 23,
   "metadata": {},
   "outputs": [],
   "source": [
    "# array2raster(b1_ulc_latlon[0], b1_ulc_latlon[1], width_pixel_res, height_pixel_res, img_ncols, img_nrows, raster_file_fullpath, rough_img_b1)"
   ]
  },
  {
   "cell_type": "code",
   "execution_count": 24,
   "metadata": {},
   "outputs": [],
   "source": [
    "# for block_num in range(1,2,1):\n",
    "    \n",
    "#     print(\"-> processing block %d\" % block_num)\n",
    "    \n",
    "#     #~ setup block-1 raster fullpath\n",
    "#     raster_name = \"path_\"+str(path_num)+\"_block_\"+str(block_num)\n",
    "#     raster_file_fullpath = setup_rastername(raster_name, raster_dir_fullpath)\n",
    "    \n",
    "#     ulc, urc, lrc, llc = extract_block_corners(path_num, block_num, misr_res_meter)\n",
    "    \n",
    "#     geotransform_rotated = perspectiveTransform(img_ncols, img_nrows, llc, lrc, urc, ulc)\n",
    "    \n",
    "#     #~ old one \n",
    "#     # array2raster_NorthUp_LRCOrigin(geotransform_rotated, b1_lrc_latlon[0], b1_lrc_latlon[1], width_pixel_res, height_pixel_res, img_ncols, img_nrows, raster_file_fullpath, rough_img_b1)\n",
    "\n",
    "#     array2raster_NorthUp_LRCOrigin(geotransform_rotated, b1_lrc_latlon[0], b1_lrc_latlon[1], pixel_x_size, pixel_y_size, img_ncols, img_nrows, raster_file_fullpath, rough_img_b1)"
   ]
  },
  {
   "cell_type": "markdown",
   "metadata": {},
   "source": [
    "## setup block-1 raster fullpath"
   ]
  },
  {
   "cell_type": "code",
   "execution_count": 25,
   "metadata": {},
   "outputs": [],
   "source": [
    "# for block_num in range(1,2,1):\n",
    "\n",
    "# #~ setup block-2 raster fullpath\n",
    "# raster_name = \"path_\"+str(path_num)+\"_block_\"+str(block_num)\n",
    "# raster_file_fullpath = setup_rastername(raster_name, raster_dir_fullpath)"
   ]
  },
  {
   "cell_type": "markdown",
   "metadata": {},
   "source": [
    "## process block-1"
   ]
  },
  {
   "cell_type": "code",
   "execution_count": null,
   "metadata": {},
   "outputs": [],
   "source": []
  },
  {
   "cell_type": "code",
   "execution_count": 26,
   "metadata": {},
   "outputs": [
    {
     "name": "stdout",
     "output_type": "stream",
     "text": [
      "-> processing block 1\n",
      "-> output raster: path_180_block_1_LatLon_degreeRes_NorthUp_perspectiveTrans.tif\n",
      "/Users/ehsanmos/Documents/RnD/Ehsan_lab_MISR/raster_dir.nosync/path_180_block_1_LatLon_degreeRes_NorthUp_perspectiveTrans.tif\n",
      "extracted block corners for block 1:\n",
      "img_ulc: (66.223581, -166.103258)\n",
      "img_urc: (64.605643, -177.602425)\n",
      "img_lrc: (65.752107, -178.841471)\n",
      "img_llc: (67.446689, -166.860177)\n",
      "\n",
      "\n",
      "-> pixel size (w,h) in degrees:\n",
      "(0.006219830389738862, 0.0009208472018909508)\n",
      "\n",
      " -> computing Perspective Transformation:\n",
      "-> order of parameters input to geoTrans:\n",
      "(512, 2048, (66.22358078624517, -166.1032584351828), (64.60564343453649, -177.6024248300928), (65.752107018877, -178.84147107336798), (67.44668851679545, -166.86017720787214), (0.006219830389738862, 0.0009208472018909508))\n",
      "-> pix:\n",
      "(0, 0)\n",
      "(2048, 0)\n",
      "(2048, 512)\n",
      "(0, 512)\n",
      "-> coor:\n",
      "(-166.1032584351828, 66.22358078624517)\n",
      "(-177.6024248300928, 64.60564343453649)\n",
      "(-178.84147107336798, 65.752107018877)\n",
      "(-166.86017720787214, 67.44668851679545)\n",
      "GCP pixel&line: 0, 0\n",
      "GCP X,Y: -166.103258, 66.223581\n",
      "GCP pixel&line: 2048, 0\n",
      "GCP X,Y: -177.602425, 64.605643\n",
      "GCP pixel&line: 2048, 512\n",
      "GCP X,Y: -178.841471, 65.752107\n",
      "GCP pixel&line: 0, 512\n",
      "GCP X,Y: -166.860177, 67.446689\n",
      "-> geoT_rotated: \n",
      " top-left X, w-e pixel size, rotation, top-left Y, rotation, n-s pixel size; output units in map coords\n",
      "(-165.98272656753633, -0.005732534243263144, -0.0019491845859028734, 66.24274182279761, -0.0008087204222722467, 0.002314034487198041)\n",
      "\n",
      "\n",
      "-> using North-up (world CRS perspective) + img lrc as the origin of raster/block.\n",
      "-> FINISHED SUCCESS!\n",
      "/Users/ehsanmos/Documents/RnD/Ehsan_lab_MISR/raster_dir.nosync/path_180_block_1_LatLon_degreeRes_NorthUp_perspectiveTrans.tif\n"
     ]
    },
    {
     "data": {
      "text/plain": [
       "0"
      ]
     },
     "execution_count": 26,
     "metadata": {},
     "output_type": "execute_result"
    }
   ],
   "source": [
    "block_num = 1\n",
    "print(\"-> processing block %d\" % block_num)\n",
    "\n",
    "raster_name = \"path_\"+str(path_num)+\"_block_\"+str(block_num)\n",
    "raster_file_fullpath = setup_rastername(raster_name, raster_dir_fullpath)\n",
    "\n",
    "#~ extract block corners\n",
    "#~ how extract corners better/faster?\n",
    "img_ulc_dd, img_urc_dd, img_lrc_dd, img_llc_dd = extract_block_corners_bls2latlon(path_num, misr_res_meter, block_num)\n",
    "     \n",
    "#~ setup pixelsize\n",
    "pixel_size = setup_pixel_size_new(img_ulc_dd, img_lrc_dd, misr_img_res)\n",
    "\n",
    "#~ setup geoTransformation matrix\n",
    "geoT_rotated = geoT_Ndown(misr_img_res[0], misr_img_res[1], img_ulc_dd, img_urc_dd, img_lrc_dd, img_llc_dd, pixel_size) \n",
    "\n",
    "#~ write img as ratser\n",
    "#~ use img ulc as raster corner with NorthDown notation\n",
    "# array2raster_NorthDown_ImgULCAsOrigin(geoT_rotated, img_ulc_dd[0], img_ulc_dd[1], pixel_size[0], pixel_size[1], misr_img_res[0], misr_img_res[1], raster_file_fullpath, rough_img_b1)\n",
    "\n",
    "arr2ras_Nup_ImgLRC(geoT_rotated, pixel_size[0], pixel_size[1], misr_img_res[0], misr_img_res[1], raster_file_fullpath, rough_img_b1)\n",
    "\n",
    "    \n",
    "    \n",
    "    \n",
    "\n",
    "#~ old ones\n",
    "# array2raster_NorthUp_LRCOrigin(geotransform_rotated, b1_lrc_latlon[0], b1_lrc_latlon[1], width_pixel_res, height_pixel_res, img_ncols, img_nrows, raster_file_fullpath, rough_img_b1)\n",
    "\n",
    "# array2raster_NorthUp_LRCOrigin(geotransform_rotated, b1_lrc_latlon[0], b1_lrc_latlon[1], pixel_x_size, pixel_y_size, img_ncols, img_nrows, raster_file_fullpath, rough_img_b1)\n",
    "\n",
    "#~ note: we use img lrc as raster origin here because we are using NorthUp notation and img lrc is the real origin of the block from sensor perspective in NorthDown notation\n",
    "# array2raster_NorthUp_LRCOrigin(geotransform_rotated, img_lrc_dd[0], img_lrc_dd[1], pixel_size[0], pixel_size[1], misr_img_res[0], misr_img_res[1], raster_file_fullpath, rough_img_b1)\n"
   ]
  },
  {
   "cell_type": "code",
   "execution_count": 27,
   "metadata": {},
   "outputs": [
    {
     "name": "stdout",
     "output_type": "stream",
     "text": [
      "-> processing block 2\n",
      "-> output raster: path_180_block_2_LatLon_degreeRes_NorthUp_perspectiveTrans.tif\n",
      "/Users/ehsanmos/Documents/RnD/Ehsan_lab_MISR/raster_dir.nosync/path_180_block_2_LatLon_degreeRes_NorthUp_perspectiveTrans.tif\n",
      "extracted block corners for block 2:\n",
      "img_ulc: (67.449078, -166.861731)\n",
      "img_urc: (65.754340, -178.844006)\n",
      "img_lrc: (66.889158, 179.799413)\n",
      "img_llc: (68.668316, -167.697312)\n",
      "\n",
      "\n",
      "-> pixel size (w,h) in degrees:\n",
      "(0.16926813680681696, 0.0010935941327590015)\n",
      "\n",
      " -> computing Perspective Transformation:\n",
      "-> order of parameters input to geoTrans:\n",
      "(512, 2048, (67.44907847403444, -166.86173134299995), (65.7543397184382, -178.84400581519114), (66.88915827806183, 179.7994128373612), (68.66831570229306, -167.69731185865032), (0.16926813680681696, 0.0010935941327590015))\n",
      "-> pix:\n",
      "(0, 0)\n",
      "(2048, 0)\n",
      "(2048, 512)\n",
      "(0, 512)\n",
      "-> coor:\n",
      "(-166.86173134299995, 67.44907847403444)\n",
      "(-178.84400581519114, 65.7543397184382)\n",
      "(179.7994128373612, 66.88915827806183)\n",
      "(-167.69731185865032, 68.66831570229306)\n",
      "GCP pixel&line: 0, 0\n",
      "GCP X,Y: -166.861731, 67.449078\n",
      "GCP pixel&line: 2048, 0\n",
      "GCP X,Y: -178.844006, 65.754340\n",
      "GCP pixel&line: 2048, 512\n",
      "GCP X,Y: 179.799413, 66.889158\n",
      "GCP pixel&line: 0, 512\n",
      "GCP X,Y: -167.697312, 68.668316\n",
      "-> geoT_rotated: \n",
      " top-left X, w-e pixel size, rotation, top-left Y, rotation, n-s pixel size; output units in map coords\n",
      "(-256.7314811350507, 0.08191270757417489, 0.34942171693056834, 67.47018314119319, -0.0008481191845281883, 0.002298882605353759)\n",
      "\n",
      "\n",
      "-> using North-up (world CRS perspective) + img lrc as the origin of raster/block.\n",
      "-> FINISHED SUCCESS!\n",
      "/Users/ehsanmos/Documents/RnD/Ehsan_lab_MISR/raster_dir.nosync/path_180_block_2_LatLon_degreeRes_NorthUp_perspectiveTrans.tif\n"
     ]
    },
    {
     "data": {
      "text/plain": [
       "0"
      ]
     },
     "execution_count": 27,
     "metadata": {},
     "output_type": "execute_result"
    }
   ],
   "source": [
    "block_num = 2\n",
    "print(\"-> processing block %d\" % block_num)\n",
    "\n",
    "raster_name = \"path_\"+str(path_num)+\"_block_\"+str(block_num)\n",
    "raster_file_fullpath = setup_rastername(raster_name, raster_dir_fullpath)\n",
    "\n",
    "#~ extract block corners\n",
    "#~ how extract corners better/faster?\n",
    "img_ulc_dd, img_urc_dd, img_lrc_dd, img_llc_dd = extract_block_corners_bls2latlon(path_num, misr_res_meter, block_num)\n",
    "     \n",
    "#~ setup pixelsize\n",
    "pixel_size = setup_pixel_size_new(img_ulc_dd, img_lrc_dd, misr_img_res)\n",
    "\n",
    "#~ setup geoTransformation matrix\n",
    "geoT_rotated = geoT_Ndown(misr_img_res[0], misr_img_res[1], img_ulc_dd, img_urc_dd, img_lrc_dd, img_llc_dd, pixel_size) \n",
    "\n",
    "#~ write img as ratser\n",
    "#~ use img ulc as raster corner with NorthDown notation\n",
    "# array2raster_NorthDown_ImgULCAsOrigin(geoT_rotated, img_ulc_dd[0], img_ulc_dd[1], pixel_size[0], pixel_size[1], misr_img_res[0], misr_img_res[1], raster_file_fullpath, rough_img_b1)\n",
    "\n",
    "arr2ras_Nup_ImgLRC(geoT_rotated, pixel_size[0], pixel_size[1], misr_img_res[0], misr_img_res[1], raster_file_fullpath, rough_img_b2)\n",
    "\n",
    "    "
   ]
  }
 ],
 "metadata": {
  "kernelspec": {
   "display_name": "Python 2",
   "language": "python",
   "name": "python2"
  },
  "language_info": {
   "codemirror_mode": {
    "name": "ipython",
    "version": 2
   },
   "file_extension": ".py",
   "mimetype": "text/x-python",
   "name": "python",
   "nbconvert_exporter": "python",
   "pygments_lexer": "ipython2",
   "version": "2.7.16"
  }
 },
 "nbformat": 4,
 "nbformat_minor": 2
}
