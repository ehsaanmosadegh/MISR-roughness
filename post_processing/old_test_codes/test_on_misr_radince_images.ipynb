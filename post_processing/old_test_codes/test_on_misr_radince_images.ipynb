{
 "cells": [
  {
   "cell_type": "code",
   "execution_count": 1,
   "metadata": {},
   "outputs": [],
   "source": [
    "import MisrToolkit as Mtk \t# python2.7\n",
    "import os, glob, cv2, gdal\n",
    "import numpy as np\n",
    "# import PIL\n",
    "from PIL import Image"
   ]
  },
  {
   "cell_type": "markdown",
   "metadata": {},
   "source": [
    "## plot f()"
   ]
  },
  {
   "cell_type": "code",
   "execution_count": 2,
   "metadata": {},
   "outputs": [],
   "source": [
    "def arr2img_func(in_arr_2d, img_label, img_dir):\n",
    "\n",
    "    from matplotlib import image as pltimg, pyplot as plt  #  pyplot uses the actual RGB values as they are, more accurate than PIL\n",
    "    \n",
    "    save_mode = True\n",
    "    print('-> save mode: %s' % save_mode)\n",
    "        \n",
    "#     if (in_arr_2d.max() < 1):\n",
    "#         print('-> PlotImgFunc: img is dark! skip it.')\n",
    "#         return 'skipIt'\n",
    "    \n",
    "#     else:\n",
    "\n",
    "\n",
    "    img_format = \".jpg\"\n",
    "\n",
    "    plt.gray() # This will show the images in grayscale as default\n",
    "\n",
    "    plt.figure(figsize=(20,20))  # set the figure size\n",
    "\n",
    "    plt.imshow(in_arr_2d, cmap='gray', vmin=0 , vmax=in_arr_2d.max())\n",
    "    plt.show() # to show the img inline here\n",
    "\n",
    "    if (save_mode==True):\n",
    "\n",
    "        out_img = img_label + img_format\n",
    "        out_img_fullpath = os.path.join(img_dir, out_img)\n",
    "        print(\"-> saving output img as: %s\" %out_img_fullpath)\n",
    "        pltimg.imsave(out_img_fullpath, in_arr_2d)\n",
    "        # plt.savefig(out_img)\n",
    "        del plt\n",
    "        return out_img_fullpath\n",
    "\n",
    "    else:\n",
    "        print('-> save mode is False, wo we onlu show ig here.')\n",
    "        return 'onlyShowImg'"
   ]
  },
  {
   "cell_type": "markdown",
   "metadata": {},
   "source": [
    "## set paths and check files"
   ]
  },
  {
   "cell_type": "code",
   "execution_count": 3,
   "metadata": {},
   "outputs": [
    {
     "name": "stdout",
     "output_type": "stream",
     "text": [
      "True\n"
     ]
    }
   ],
   "source": [
    "hdf_dir = '/Volumes/Ehsanm_DRI/research/MISR/hdf_files/ellipsoid_apr2013_day1to16_p1to233_b1to40/an_rad_images'\n",
    "hdf_file = \"MISR_AM1_GRP_ELLIPSOID_GM_P174_O070759_AN_F03_0024.hdf\"\n",
    "\n",
    "hdf_file_fullpath = os.path.join(hdf_dir, hdf_file) # platform independent\n",
    "print(os.path.isfile(hdf_file_fullpath))"
   ]
  },
  {
   "cell_type": "markdown",
   "metadata": {},
   "source": [
    "## some stats"
   ]
  },
  {
   "cell_type": "code",
   "execution_count": 4,
   "metadata": {},
   "outputs": [
    {
     "name": "stdout",
     "output_type": "stream",
     "text": [
      "<type 'MisrToolkit.MtkFile'>\n",
      "(9, 152)\n"
     ]
    }
   ],
   "source": [
    "hdf_obj = Mtk.MtkFile(hdf_file_fullpath)\n",
    "print(type(hdf_obj))\n",
    "total_block_range = hdf_obj.block\n",
    "print(total_block_range)"
   ]
  },
  {
   "cell_type": "markdown",
   "metadata": {},
   "source": [
    "## process one image - Q- how read one block of data?"
   ]
  },
  {
   "cell_type": "code",
   "execution_count": 5,
   "metadata": {},
   "outputs": [],
   "source": [
    "path = 174\n",
    "block = 50\n",
    "misr_res_meter = 275"
   ]
  },
  {
   "cell_type": "code",
   "execution_count": 6,
   "metadata": {},
   "outputs": [
    {
     "name": "stdout",
     "output_type": "stream",
     "text": [
      "<type 'numpy.ndarray'>\n"
     ]
    }
   ],
   "source": [
    "my_block = Mtk.MtkRegion(path, block, block)\n",
    "rad_arr = hdf_obj.grid('RedBand').field('Red Radiance/RDQI').read(my_block).data()\n",
    "print(type(rad_arr))"
   ]
  },
  {
   "cell_type": "markdown",
   "metadata": {},
   "source": [
    "## Q- later how change array to object? or in memory?"
   ]
  },
  {
   "cell_type": "code",
   "execution_count": 7,
   "metadata": {},
   "outputs": [],
   "source": [
    "# inDS = np.array(rad_arr, dtype=np.object)\n",
    "# print(type(inDS))"
   ]
  },
  {
   "cell_type": "markdown",
   "metadata": {},
   "source": [
    "## show image"
   ]
  },
  {
   "cell_type": "code",
   "execution_count": 8,
   "metadata": {},
   "outputs": [
    {
     "name": "stdout",
     "output_type": "stream",
     "text": [
      "-> save mode: True\n"
     ]
    },
    {
     "data": {
      "text/plain": [
       "<Figure size 640x480 with 0 Axes>"
      ]
     },
     "metadata": {},
     "output_type": "display_data"
    },
    {
     "data": {
      "text/plain": [
       "<Figure size 2000x2000 with 1 Axes>"
      ]
     },
     "metadata": {},
     "output_type": "display_data"
    },
    {
     "name": "stdout",
     "output_type": "stream",
     "text": [
      "-> saving output img as: /Volumes/Ehsanm_DRI/research/MISR/hdf_files/ellipsoid_apr2013_day1to16_p1to233_b1to40/an_rad_images/path_174_b50.jpg\n"
     ]
    }
   ],
   "source": [
    "img_label = 'path_'+str(path)+'_b'+str(block)\n",
    "img_dir = hdf_dir\n",
    "inDS = arr2img_func(rad_arr, img_label, img_dir)"
   ]
  },
  {
   "cell_type": "code",
   "execution_count": 9,
   "metadata": {},
   "outputs": [
    {
     "name": "stdout",
     "output_type": "stream",
     "text": [
      "/Volumes/Ehsanm_DRI/research/MISR/hdf_files/ellipsoid_apr2013_day1to16_p1to233_b1to40/an_rad_images/img2raster_b50_translated.tif\n"
     ]
    }
   ],
   "source": [
    "raster_img_dir = hdf_dir\n",
    "raster_fname = 'img2raster_'+'b'+str(block)+'_translated.tif'\n",
    "raster_translated_fullpath = os.path.join(raster_img_dir, raster_fname)\n",
    "print(raster_translated_fullpath)"
   ]
  },
  {
   "cell_type": "code",
   "execution_count": 10,
   "metadata": {},
   "outputs": [
    {
     "name": "stdout",
     "output_type": "stream",
     "text": [
      "-> transfer img frame -> latlon frame for path_num: 174, block_num: 50\n",
      "(51.50172788126263, 37.98436790324279)\n",
      "(51.39711465262676, 39.15842266023402)\n",
      "(51.28078821388226, 40.32731202367263)\n",
      "(51.10765745357027, 41.87652566772108)\n",
      "(50.96445541237677, 43.03053877376678)\n",
      "(50.75599599909551, 44.557408026654684)\n",
      "(50.55921476448539, 45.869957345710525)\n",
      "(51.01219486604948, 37.87996350155054)\n",
      "(50.90843774784603, 39.041875198957)\n",
      "(50.79316512692072, 40.198807962961105)\n",
      "(50.62174066247859, 41.732412766081296)\n",
      "(50.48003876411503, 42.87499959785881)\n",
      "(50.273864336014654, 44.387048660346885)\n",
      "(50.07932008653364, 45.687158208848416)\n",
      "(50.522537648507125, 37.77744442429328)\n",
      "(50.41961374118161, 38.92753971078439)\n",
      "(50.30536822414074, 40.072833498142984)\n",
      "(50.13560881215884, 41.59123696444536)\n",
      "(49.99537216540821, 42.72268983291787)\n",
      "(49.791431342611524, 44.22028899923788)\n",
      "(49.59907540773796, 45.50826073426016)\n",
      "(50.25072514075242, 37.72133488536304)\n",
      "(50.14825413799848, 38.86500887406348)\n",
      "(50.03456753908825, 40.00397614228616)\n",
      "(49.86571504060561, 41.51411379526128)\n",
      "(49.72627705367028, 42.63951004836854)\n",
      "(49.52355443191145, 44.12924518207001)\n",
      "(49.33239267609881, 45.41060754649121)\n",
      "-> total GCPs from img frame: 28\n",
      "-> note-2: all long. are on Eastern hemisphere (positive) in the img block!\n"
     ]
    }
   ],
   "source": [
    "print(\"-> transfer img frame -> latlon frame for path_num: %d, block_num: %s\" %(path, block))\n",
    "#~ make 2 lists for img and geographic frames, then analyze long. to see if all are neg. or all are pos.; if all are the same then pass, else: change <-> to <+>\n",
    "pixel_rowcol_list = []  # (row, column)\n",
    "geographic_latlon_list = []\n",
    "\n",
    "\n",
    "for jrow in [0, 200, 400, 511]:\n",
    "    for icol in [0, 300, 600, 1000, 1300, 1700, 2047]:\n",
    "\n",
    "        #~ process each col of each row\n",
    "#             print(\"\\n-> processing img coords: (%d, %d)\" %(jrow, icol))\n",
    "\n",
    "        #~ use MTK function to map from img frame to geographic frame\n",
    "        pixel_latlon_tuple = Mtk.bls_to_latlon(path, misr_res_meter, block, jrow, icol) # struct=(lat, lon)?\n",
    "        print(pixel_latlon_tuple)  # print every tuple of transfered latlon\n",
    "\n",
    "        pixel_rowcol_list.append([jrow, icol])\n",
    "        geographic_latlon_list.append(pixel_latlon_tuple)\n",
    "\n",
    "print(\"-> total GCPs from img frame: %d\" %len(pixel_rowcol_list))    \n",
    "# print(pixel_rowcol_list)\n",
    "# print(geographic_latlon_list)  # print to check all latlon list\n",
    "\n",
    "\n",
    "#~ check all elements of long. to have same sign, either +/-\n",
    "# all(iterable); iterable==list or anything that we can iterate on; Return True if all elements of the iterable are true\n",
    "if (any( [LatLon_tuple[1] < 0  for  LatLon_tuple in geographic_latlon_list] )):   # if any Lon in geographic_latlon_list is neg. we change that to pos.\n",
    "    ''' we enter this part if all or any pixels are on West hemisphere (have neg. long.) in img block, and we change them to pos. and the range will be [0, +360] '''\n",
    "\n",
    "    print(\"-> note-1: found neg. lon. in geographic_latlon_list! will update neg. to pos. long.\")\n",
    "\n",
    "    gcp_list = []  # a list of ground control points\n",
    "\n",
    "    for index, element in enumerate(pixel_rowcol_list):    # index == each GCP ; element order == [row, col]\n",
    "\n",
    "        #~ for each point we add GCPs to a list\n",
    "        gcp_list.append(gdal.GCP())  # initialize GCP dataStruct for each coordinate point\n",
    "\n",
    "        #~ X,Y in img frame\n",
    "        gcp_list[index].GCPLine  = pixel_rowcol_list[index][0]       # y == row\n",
    "        gcp_list[index].GCPPixel = pixel_rowcol_list[index][1]       # x == column == pixel\n",
    "\n",
    "\n",
    "        #~ chnage \"-\" Lon to \"+\" w.r.t CENTER_LONG = +180\n",
    "        #~ print(\"-> updating neg. lon. to positive\")\n",
    "\n",
    "        #~ do this section for blocks that pass AntiMeridian, and we change all neg. long. to pos. long. that will span [0, 360] range \n",
    "\n",
    "        #~ 1st we add lat to list\n",
    "        gcp_list[index].GCPY = geographic_latlon_list[index][0]  # lat=northing \n",
    "\n",
    "        #~ 2nd check for long. note; this section is as a result of any() meaning that we have 2 scenarios: some long. are neg./pos. or all are neg.\n",
    "        pixel_long = geographic_latlon_list[index][1]\n",
    "\n",
    "        if ( pixel_long < 0 ):  # if we find neg. long., we change it to pos. long. and will be in range [0, +360], especially case is all in neg. side of A.M.\n",
    "            print(\"-> found neg. pixel long. in the crossing block: %f\" % pixel_long)\n",
    "\n",
    "            updated_lon_passed_AntiMerid = (360.0 + pixel_long )  # this long. is changed to pos. and will be in range [0, +360]\n",
    "            print(\"=================> update: neg.long. updated to: %f\" %updated_lon_passed_AntiMerid)\n",
    "\n",
    "            #~ update neg. long. to pos. long.\n",
    "            gcp_list[index].GCPX = updated_lon_passed_AntiMerid\n",
    "\n",
    "        else:  # here we collect some pos. long. among neg. long. in the case block is crossing A.M. line\n",
    "\n",
    "            # print(\"-> found pos. long. among neg. longs. in the crossing block: %f\" %geographic_latlon_list[index][1])\n",
    "\n",
    "            #~ no need to update Lon. since it is pos. Lon.\n",
    "            gcp_list[index].GCPX = geographic_latlon_list[index][1]\n",
    "\n",
    "\n",
    "\n",
    "else:\n",
    "    print(\"-> note-2: all long. are on Eastern hemisphere (positive) in the img block!\")\n",
    "\n",
    "    gcp_list = []  # a list of ground control points\n",
    "\n",
    "    for index, element in enumerate(pixel_rowcol_list):    # index == each GCP ; element order == [row, col]\n",
    "\n",
    "        #~ for each point we add GCPs to a list\n",
    "        gcp_list.append(gdal.GCP())  # initialize GCP dataStruct for each coordinate point\n",
    "\n",
    "        #~ X,Y in img frame\n",
    "        gcp_list[index].GCPLine  = pixel_rowcol_list[index][0]       # y == row\n",
    "        gcp_list[index].GCPPixel = pixel_rowcol_list[index][1]       # x == column == pixel\n",
    "\n",
    "        #~ add lat&lon\n",
    "        gcp_list[index].GCPY = geographic_latlon_list[index][0]  # lat=northing \n",
    "        gcp_list[index].GCPX = geographic_latlon_list[index][1]  # lon=easting"
   ]
  },
  {
   "cell_type": "code",
   "execution_count": 11,
   "metadata": {},
   "outputs": [],
   "source": [
    "translate_ds = gdal.Translate(\n",
    "                                raster_translated_fullpath,\n",
    "                                inDS,  \n",
    "                                format = 'GTiff',\n",
    "                                outputType = gdal.GDT_Float32, # maybe here chnage dtype to make it smaller img????\n",
    "                                GCPs = gcp_list\n",
    "                                ) "
   ]
  },
  {
   "cell_type": "code",
   "execution_count": 12,
   "metadata": {},
   "outputs": [
    {
     "name": "stdout",
     "output_type": "stream",
     "text": [
      "True\n",
      "/Volumes/Ehsanm_DRI/research/MISR/hdf_files/ellipsoid_apr2013_day1to16_p1to233_b1to40/an_rad_images/img2raster_b50_translated.tif\n"
     ]
    }
   ],
   "source": [
    "print(os.path.isfile(raster_translated_fullpath))\n",
    "print(raster_translated_fullpath)"
   ]
  },
  {
   "cell_type": "code",
   "execution_count": 13,
   "metadata": {},
   "outputs": [],
   "source": [
    "#~ Properly close the datasets to flush to disk\n",
    "translate_ds = None\n",
    "inDS = None"
   ]
  },
  {
   "cell_type": "code",
   "execution_count": 14,
   "metadata": {},
   "outputs": [],
   "source": [
    "total_gcps = len(pixel_rowcol_list)\n",
    "\n",
    "img_tag = 'test_warped'\n",
    "warped_img = img_tag+\"_reprojected_\"+str(total_gcps)+\"GCPs\"+\".tif\"\n",
    "outDS_warped = os.path.join(hdf_dir, warped_img)"
   ]
  },
  {
   "cell_type": "markdown",
   "metadata": {},
   "source": [
    "## gdalwarp to apply transformation"
   ]
  },
  {
   "cell_type": "code",
   "execution_count": 15,
   "metadata": {},
   "outputs": [
    {
     "name": "stdout",
     "output_type": "stream",
     "text": [
      "-> to cmdLine... \n",
      "\n"
     ]
    }
   ],
   "source": [
    "from subprocess import call\n",
    "\n",
    "# print(os.path.isfile(out_translated_fullpath))\n",
    "# print(os.path.isfile(out_warped))\n",
    "\n",
    "print('-> to cmdLine... \\n')\n",
    "\n",
    "cmd = 'gdalwarp\\\n",
    "    -r bilinear\\\n",
    "    -s_srs \"EPSG:4326\"\\\n",
    "    -t_srs \"EPSG:4326\"\\\n",
    "    -overwrite\\\n",
    "    -tps\\\n",
    "    -tr 0.001 0.001 \\\n",
    "    -co TILED=YES\\\n",
    "    --config CENTER_LONG +180\\\n",
    "    -srcnodata 0\\\n",
    "    -dstnodata 0 ' + raster_translated_fullpath + ' ' + outDS_warped  #  -tr 0.001 0.001\\\n",
    "    \n",
    "\n",
    "\n",
    "#     print(cmd)\n",
    "\n",
    "#~ note: shell=true to execute the line as full command including arguments\n",
    "return_code = call(cmd, shell=True)  # subprocess.call() is better/safer that os.system() ==> finally used os.system() cos call returned error! correct return code?      \n"
   ]
  },
  {
   "cell_type": "markdown",
   "metadata": {},
   "source": [
    "## find hdf files based on pattern"
   ]
  },
  {
   "cell_type": "code",
   "execution_count": 16,
   "metadata": {},
   "outputs": [],
   "source": [
    "# hdf_file_pattern = \"MISR_AM1_GRP_ELLIPSOID_GM_P117_O088012_AN_F03_0024.hdf\" #'MISR_AM1_GRP_ELLIPSOID_GM_P*'\n",
    "# hdf_filelist = glob.glob(os.path.join(hdf_dir, hdf_file_pattern))\n",
    "# print(hdf_filelist)"
   ]
  },
  {
   "cell_type": "code",
   "execution_count": 17,
   "metadata": {},
   "outputs": [],
   "source": [
    "# print('-> number of MISR hdf files found: %d' % len(hdf_filelist))"
   ]
  },
  {
   "cell_type": "markdown",
   "metadata": {},
   "source": [
    "## print numBlocks in a hdf file"
   ]
  },
  {
   "cell_type": "code",
   "execution_count": 18,
   "metadata": {},
   "outputs": [],
   "source": [
    "# for hdf_file in hdf_filelist:\n",
    "#     file_obj = Mtk.MtkFile(hdf_file)\n",
    "#     total_block_range = file_obj.block\n",
    "#     print('-> no. of blocks: (%d,%d)' % total_block_range)"
   ]
  },
  {
   "cell_type": "markdown",
   "metadata": {},
   "source": [
    "## process one file at a time"
   ]
  },
  {
   "cell_type": "code",
   "execution_count": 19,
   "metadata": {},
   "outputs": [],
   "source": [
    "# file_obj = Mtk.MtkFile(hdffile_fullpath)\n",
    "# total_block_range = file_obj.block\n",
    "# print('-> no. of blocks: (%d,%d)' % total_block_range)"
   ]
  },
  {
   "cell_type": "markdown",
   "metadata": {},
   "source": [
    "## write numBlocks to file"
   ]
  },
  {
   "cell_type": "code",
   "execution_count": 20,
   "metadata": {},
   "outputs": [],
   "source": [
    "# result_dir = home_dir\n",
    "# out_filename = 'list_of_blockNum.txt'\n",
    "# output_file = os.path.join(result_dir, out_filename)\n",
    "\n",
    "# with open (output_file, 'w') as temp_write_obj:\n",
    "\n",
    "#     for hdf_file in hdf_filelist:\n",
    "#         file_obj = Mtk.MtkFile(hdf_file)\n",
    "#         block_range = file_obj.block\n",
    "#         # print('-> no. of blocks: (%d,%d)' % file_obj.block)\n",
    "#         # print(block_range)\n",
    "#         temp_write_obj.write(str(block_range)+'\\n')\t\t# write each string into output file\n",
    "\n",
    "\n",
    "# print('-> WROTE SUCCESSFULLY!')"
   ]
  },
  {
   "cell_type": "markdown",
   "metadata": {},
   "source": [
    "## define img directory"
   ]
  },
  {
   "cell_type": "code",
   "execution_count": 21,
   "metadata": {},
   "outputs": [],
   "source": [
    "# img_dir = \"/Users/ehsanmos/Documents/RnD/Ehsan_lab_MISR/\"\n",
    "# img_dir_label = 'img_dir.nosync'\n",
    "# img_dir_fullpath = os.path.join(img_dir, img_dir_label)\n",
    "# # print(img_dir_fp)\n",
    "# print(os.path.isdir(img_dir_fullpath))"
   ]
  },
  {
   "cell_type": "markdown",
   "metadata": {},
   "source": [
    "## img writter function"
   ]
  },
  {
   "cell_type": "code",
   "execution_count": 22,
   "metadata": {},
   "outputs": [],
   "source": [
    "# def img_writer1(img_dir, img_name, img_arr):\n",
    "#     '''writes images to img directory'''\n",
    "    \n",
    "#     #~ check if img dir exists?\n",
    "#     if (cv2.imwrite(os.path.join(img_dir, img_name), img_arr) == True):\n",
    "#         print(\"-> directory exists, writing to: %s\" %img_dir)\n",
    "#         print('-> writing img: %s' % img_name)\n",
    "#     else:\n",
    "#         print('-> ERROR writing img!')\n",
    "#     return 0"
   ]
  },
  {
   "cell_type": "markdown",
   "metadata": {},
   "source": [
    "## main() processing "
   ]
  },
  {
   "cell_type": "code",
   "execution_count": 23,
   "metadata": {},
   "outputs": [],
   "source": [
    "# grid_list = ['RedBand', 'GreenBand', 'BlueBand']\n",
    "# field_list = ['Red Radiance', 'Green Radiance', 'Blue Radiance']\n",
    "# # field_list = ['Red Radiance/RDQI', 'Green Radiance/RDQI', 'Blue Radiance/RDQI']\n",
    "\n",
    "# # path = 100\n",
    "# cam = 'AN'\n",
    "# img_mode = 'rgb' #'rgb' or 'red_band'\n",
    "# field_mode = 'noRDQI' # 'no_RDQI'\n",
    "\n",
    "# file_obj = Mtk.MtkFile(hdffile_fullpath)\n",
    "\n",
    "# for block_num in range(total_block_range[0], total_block_range[1], 1):\n",
    "    \n",
    "#     print('-> processing block: %d' % block_num)\n",
    "    \n",
    "#     #~ Q- how extract a block of data from hdf file??????\n",
    "#     region_obj = Mtk.MtkRegion(path, block_num, block_num)  # maybe here?\n",
    "    \n",
    "    \n",
    "#     if img_mode == 'red_band':\n",
    "        \n",
    "#         band_not_uniformed = file_obj.grid(grid_list[0]).field(field_list[0]).read(region_obj).data()   # read a band\n",
    "#         band = band_not_uniformed\n",
    "#         #print(type(band))\n",
    "#         #print(type(band))\n",
    "#         #print(band.ndim)\n",
    "#         #print('-> array shape: (%d,%d)' % band.shape)\n",
    "#         print('-> array (block, min, max): (%d, %d, %d)' %(block_num, band.min(), band.max()))\n",
    "#         img_name = 'img_'+img_mode+'_AN_'+'path'+str(path)+'_block'+str(block_num)+'_'+field_mode+'.png'  #'.jpeg' #'.' #'  # or \n",
    "#         img_writer1(img_dir, img_name, band)\n",
    "#         #del region_obj\n",
    "\n",
    "            \n",
    "#     if img_mode == 'rgb':\n",
    "        \n",
    "#         red =   file_obj.grid(grid_list[0]).field(field_list[0]).read(region_obj).data()\n",
    "#         green = file_obj.grid(grid_list[1]).field(field_list[1]).read(region_obj).data()\n",
    "#         blue =  file_obj.grid(grid_list[2]).field(field_list[2]).read(region_obj).data()\n",
    "#         # field_data = field_buffer.read(region_obj).data()\n",
    "#         factor = 1.0\n",
    "#         rgb_arr_uint8 = (np.dstack((red,green,blue))*factor).astype(np.uint8) # stacks 3 arrays of rgb and changes the dtype to unsigned-int-8\n",
    "#         #print(type(rgb_array_uint8))\n",
    "#         print('-> array (block, min, max): (%d, %d, %d)' %(block_num, rgb_arr_uint8.min(), rgb_arr_uint8.max()))\n",
    "#         img_name = 'img_RGB_AN_'+'path'+str(path)+'_block'+str(block_num)+'_'+field_mode+'.png' #'.jpeg'  # or png\n",
    "#         img_writer1(img_dir_fullpath, img_name, rgb_arr_uint8)\n",
    "        \n",
    "# #         img = Image.fromarray(rgb_array_uint8)\n",
    "# # #         img.save(os.path.join(img_dir, img_name))\n",
    "        \n",
    "   \n",
    "        \n",
    "        \n"
   ]
  },
  {
   "cell_type": "code",
   "execution_count": 24,
   "metadata": {},
   "outputs": [
    {
     "name": "stdout",
     "output_type": "stream",
     "text": [
      "-> SUCCESS END!\n"
     ]
    }
   ],
   "source": [
    "print('-> SUCCESS END!')"
   ]
  },
  {
   "cell_type": "code",
   "execution_count": 25,
   "metadata": {},
   "outputs": [],
   "source": [
    "# print(type(field_data))\n",
    "# print(field_data.ndim)\n",
    "# print(field_data.shape)\n",
    "# print(field_data.min())\n",
    "# print(field_data.max())"
   ]
  },
  {
   "cell_type": "code",
   "execution_count": 26,
   "metadata": {},
   "outputs": [],
   "source": [
    "# if (cv2.imwrite(os.path.join(img_dir, img_name), field_data) == True):\n",
    "#     print('-> IMG WAS WRITTEN!')"
   ]
  },
  {
   "cell_type": "code",
   "execution_count": null,
   "metadata": {},
   "outputs": [],
   "source": []
  }
 ],
 "metadata": {
  "kernelspec": {
   "display_name": "Python 2",
   "language": "python",
   "name": "python2"
  },
  "language_info": {
   "codemirror_mode": {
    "name": "ipython",
    "version": 2
   },
   "file_extension": ".py",
   "mimetype": "text/x-python",
   "name": "python",
   "nbconvert_exporter": "python",
   "pygments_lexer": "ipython2",
   "version": "2.7.16"
  }
 },
 "nbformat": 4,
 "nbformat_minor": 2
}
