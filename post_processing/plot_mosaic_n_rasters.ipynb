{
 "cells": [
  {
   "cell_type": "code",
   "execution_count": 1,
   "metadata": {},
   "outputs": [],
   "source": [
    "import numpy as np\n",
    "import os, glob\n",
    "import gdal, osr # python2.7 - installed in?\n",
    "import matplotlib\n",
    "from matplotlib import pyplot as plt\n",
    "import PIL\n",
    "from PIL import Image\n",
    "from datetime import datetime\n",
    "import matplotlib.cm as cm\n",
    "import matplotlib as mpl"
   ]
  },
  {
   "cell_type": "code",
   "execution_count": 2,
   "metadata": {},
   "outputs": [
    {
     "name": "stdout",
     "output_type": "stream",
     "text": [
      "2020-11-25 16:32:41.428440\n"
     ]
    }
   ],
   "source": [
    "now = datetime.now()\n",
    "print(now)"
   ]
  },
  {
   "cell_type": "code",
   "execution_count": 3,
   "metadata": {},
   "outputs": [
    {
     "data": {
      "text/plain": [
       "'2.2.5'"
      ]
     },
     "execution_count": 3,
     "metadata": {},
     "output_type": "execute_result"
    }
   ],
   "source": [
    "matplotlib.__version__"
   ]
  },
  {
   "cell_type": "code",
   "execution_count": 4,
   "metadata": {},
   "outputs": [
    {
     "data": {
      "text/plain": [
       "'3010400'"
      ]
     },
     "execution_count": 4,
     "metadata": {},
     "output_type": "execute_result"
    }
   ],
   "source": [
    "gdal.VersionInfo()"
   ]
  },
  {
   "cell_type": "markdown",
   "metadata": {},
   "source": [
    "## manually set the date to label the plot"
   ]
  },
  {
   "cell_type": "code",
   "execution_count": 5,
   "metadata": {},
   "outputs": [
    {
     "name": "stdout",
     "output_type": "stream",
     "text": [
      "1 April 2013\n",
      "oneBlock_1Apr2013.jpg\n"
     ]
    }
   ],
   "source": [
    "plot_date = \"1 April 2013\"\n",
    "print(plot_date)\n",
    "\n",
    "saved_img_name = 'oneBlock_1Apr2013.jpg'\n",
    "# saved_img_name = 'test_4.jpg'\n",
    "\n",
    "print(saved_img_name)"
   ]
  },
  {
   "cell_type": "markdown",
   "metadata": {},
   "source": [
    "## set directory path to mosaic file "
   ]
  },
  {
   "cell_type": "code",
   "execution_count": 6,
   "metadata": {},
   "outputs": [
    {
     "name": "stdout",
     "output_type": "stream",
     "text": [
      "/Volumes/Ehsan7757420250/2013/roughness_2013_apr1to16_p1to233_b1to40/roughness_subdir_2013_4_1/rasters_noDataNeg99_TiffFileFloat64_max/raster_path_212_block_39_85GCPs_noGdalRes_dTypeFloat64_85gcps_reprojToEPSG_3995.tif\n"
     ]
    }
   ],
   "source": [
    "#~ float dtype\n",
    "raster_fullpath = '/Volumes/Ehsan7757420250/2013/roughness_2013_apr1to16_p1to233_b1to40/roughness_subdir_2013_4_1/rasters_noDataNeg99_TiffFileFloat64_max/raster_path_212_block_39_85GCPs_noGdalRes_dTypeFloat64_85gcps_reprojToEPSG_3995.tif'\n",
    "\n",
    "# raster_fullpath = '/Users/ehsanmos/Documents/RnD/MISR_lab/roughness_dir.nosync/test_p75_180_srcNoData99_dstNodata99_tiffFileFloat64_max/rasters/raster_path_180_block_30_85GCPs_noGdalRes_dTypeFloat64_85gcps_reprojToEPSG_3995.tif'\n",
    "\n",
    "print(raster_fullpath)\n"
   ]
  },
  {
   "cell_type": "code",
   "execution_count": 7,
   "metadata": {},
   "outputs": [
    {
     "name": "stdout",
     "output_type": "stream",
     "text": [
      "-> raster found!\n"
     ]
    }
   ],
   "source": [
    "#~ check if ratster exist\n",
    "if (os.path.isfile(raster_fullpath)):\n",
    "    print('-> raster found!')\n",
    "else:\n",
    "    print('-> raster NOT exist!')\n",
    "    "
   ]
  },
  {
   "cell_type": "code",
   "execution_count": 8,
   "metadata": {},
   "outputs": [
    {
     "name": "stdout",
     "output_type": "stream",
     "text": [
      "-> dataset type: <class 'osgeo.gdal.Dataset'>\n"
     ]
    }
   ],
   "source": [
    "#~ raster2array: read data from raster in to array\n",
    "dataset = gdal.Open(raster_fullpath)\n",
    "print('-> dataset type: %s' %type(dataset))\n"
   ]
  },
  {
   "cell_type": "code",
   "execution_count": 9,
   "metadata": {},
   "outputs": [],
   "source": [
    "raster = dataset.GetRasterBand(1)"
   ]
  },
  {
   "cell_type": "markdown",
   "metadata": {},
   "source": [
    "## build a dictionary to fill w/ metadata"
   ]
  },
  {
   "cell_type": "code",
   "execution_count": 10,
   "metadata": {},
   "outputs": [
    {
     "name": "stdout",
     "output_type": "stream",
     "text": [
      "<type 'dict'>\n"
     ]
    }
   ],
   "source": [
    "metadata = {}\n",
    "print(type(metadata))"
   ]
  },
  {
   "cell_type": "markdown",
   "metadata": {},
   "source": [
    "## we create metadata"
   ]
  },
  {
   "cell_type": "code",
   "execution_count": 11,
   "metadata": {},
   "outputs": [
    {
     "name": "stdout",
     "output_type": "stream",
     "text": [
      "rows: 1449\n",
      "columns: 2318\n"
     ]
    }
   ],
   "source": [
    "metadata['array_rows'] = dataset.RasterYSize\n",
    "metadata['array_cols'] = dataset.RasterXSize\n",
    "\n",
    "print('rows: %s' % metadata['array_rows'])\n",
    "print('columns: %s' % metadata['array_cols'])"
   ]
  },
  {
   "cell_type": "markdown",
   "metadata": {},
   "source": [
    "## geoTransform info"
   ]
  },
  {
   "cell_type": "code",
   "execution_count": 12,
   "metadata": {},
   "outputs": [
    {
     "name": "stdout",
     "output_type": "stream",
     "text": [
      "(-775900.9616607283, 273.8466830174553, 0.0, -2668854.4375756206, 0.0, -273.8466830174553)\n",
      "order of geoTransform matrix= tlX, pixelW, 0, tlY, 0, pixelH\n"
     ]
    }
   ],
   "source": [
    "geotransform = dataset.GetGeoTransform()\n",
    "print(geotransform) # note: units in meters\n",
    "print('order of geoTransform matrix= tlX, pixelW, 0, tlY, 0, pixelH')"
   ]
  },
  {
   "cell_type": "code",
   "execution_count": 13,
   "metadata": {},
   "outputs": [],
   "source": [
    "xMin = geotransform[0]\n",
    "xMax = geotransform[0] + dataset.RasterXSize*geotransform[1]        # i changed it to * to get xMax value\n",
    "yMin = geotransform[3] + dataset.RasterYSize*geotransform[5]\n",
    "yMax = geotransform[3]"
   ]
  },
  {
   "cell_type": "code",
   "execution_count": 14,
   "metadata": {},
   "outputs": [
    {
     "name": "stdout",
     "output_type": "stream",
     "text": [
      "-775900.961661\n",
      "-141124.350426\n",
      "-3065658.28127\n",
      "-2668854.43758\n"
     ]
    }
   ],
   "source": [
    "print(xMin)\n",
    "print(xMax)\n",
    "print(yMin)\n",
    "print(yMax)"
   ]
  },
  {
   "cell_type": "code",
   "execution_count": 15,
   "metadata": {},
   "outputs": [
    {
     "data": {
      "text/plain": [
       "(-775900.9616607283,\n",
       " -141124.35042626702,\n",
       " -3065658.281267913,\n",
       " -2668854.4375756206)"
      ]
     },
     "execution_count": 15,
     "metadata": {},
     "output_type": "execute_result"
    }
   ],
   "source": [
    "# metadata['extent'] = (xMin,xMax,yMin,yMax)\n",
    "plot_extent = (xMin,xMax,yMin,yMax)\n",
    "plot_extent"
   ]
  },
  {
   "cell_type": "markdown",
   "metadata": {},
   "source": [
    "## get shape of roughness data"
   ]
  },
  {
   "cell_type": "code",
   "execution_count": 16,
   "metadata": {},
   "outputs": [
    {
     "name": "stdout",
     "output_type": "stream",
     "text": [
      "(1449, 2318)\n"
     ]
    }
   ],
   "source": [
    "# array_shape = raster.ReadAsArray(0,0, metadata['array_cols'], metadata['array_rows']).astype('byte').shape # check this f(.)\n",
    "array_shape = raster.ReadAsArray(0,0, metadata['array_cols'], metadata['array_rows']).astype('float64').shape # check this f(.)\n",
    "\n",
    "print(array_shape)"
   ]
  },
  {
   "cell_type": "markdown",
   "metadata": {},
   "source": [
    "## build an array with zeros"
   ]
  },
  {
   "cell_type": "code",
   "execution_count": 17,
   "metadata": {},
   "outputs": [],
   "source": [
    "# rough_arr = np.zeros((array_shape[0], array_shape[1], dataset.RasterCount), dtype='byte') # check f(.) arguments\n",
    "rough_arr = np.zeros((array_shape[0], array_shape[1], dataset.RasterCount), dtype='float64') # check f(.) arguments"
   ]
  },
  {
   "cell_type": "code",
   "execution_count": 18,
   "metadata": {},
   "outputs": [
    {
     "name": "stdout",
     "output_type": "stream",
     "text": [
      "float64\n",
      "0.0\n",
      "0.0\n"
     ]
    }
   ],
   "source": [
    "print(rough_arr.dtype)\n",
    "print(rough_arr.min())\n",
    "print(rough_arr.max())"
   ]
  },
  {
   "cell_type": "markdown",
   "metadata": {},
   "source": [
    "## read roughess data inside array and fill zero array with it"
   ]
  },
  {
   "cell_type": "code",
   "execution_count": 19,
   "metadata": {},
   "outputs": [],
   "source": [
    "# rough_arr = raster.ReadAsArray(0, 0, metadata['array_cols'], metadata['array_rows']).astype('byte')\n",
    "rough_arr = raster.ReadAsArray(0, 0, metadata['array_cols'], metadata['array_rows']).astype('float64')"
   ]
  },
  {
   "cell_type": "code",
   "execution_count": 20,
   "metadata": {
    "scrolled": true
   },
   "outputs": [
    {
     "name": "stdout",
     "output_type": "stream",
     "text": [
      "float64\n",
      "-> array shape: (1449, 2318)\n",
      "-> roughness min: -999994.0\n",
      "-> roughness max: 829.2362670898438\n"
     ]
    }
   ],
   "source": [
    "# print(type(rough_arr))\n",
    "print(rough_arr.dtype)\n",
    "\n",
    "print('-> array shape: (%s, %s)' % rough_arr.shape)\n",
    "print('-> roughness min: %s' % rough_arr.min())\n",
    "print('-> roughness max: %s' % rough_arr.max())"
   ]
  },
  {
   "cell_type": "markdown",
   "metadata": {},
   "source": [
    "## >>> plot section ..."
   ]
  },
  {
   "cell_type": "code",
   "execution_count": 21,
   "metadata": {},
   "outputs": [
    {
     "name": "stdout",
     "output_type": "stream",
     "text": [
      "-> making plot...\n"
     ]
    }
   ],
   "source": [
    "print('-> making plot...')"
   ]
  },
  {
   "cell_type": "markdown",
   "metadata": {},
   "source": [
    "## using PIL library"
   ]
  },
  {
   "cell_type": "code",
   "execution_count": 22,
   "metadata": {},
   "outputs": [],
   "source": [
    "# # create PIL image from roughness array\n",
    "# rough_PIL_img = Image.fromarray(roughness_array)\n",
    "# print(type(rough_PIL_img))\n",
    "# # rough_PIL_img.show()"
   ]
  },
  {
   "cell_type": "markdown",
   "metadata": {},
   "source": [
    "## test if we can mask negative pixels"
   ]
  },
  {
   "cell_type": "code",
   "execution_count": 23,
   "metadata": {},
   "outputs": [],
   "source": [
    "# # mask_cond = (rough_arr >= 0.0) & (rough_arr == -999994.0)  # elementwize and; returns boolean mask \n",
    "# # print(mask_cond)\n",
    "\n",
    "# #~ test2 w/np.where \n",
    "# np.where((rough_arr >= 0.0) & (rough_arr == -999994.0), np.NAN, rough_arr)\n",
    "\n",
    "# # rough_arr[mask_cond] = np.nan # nan rough values and land mask pixels \n",
    "# plt.imshow(rough_arr, cmap='gray') # plot the rest of data\n",
    "\n"
   ]
  },
  {
   "cell_type": "markdown",
   "metadata": {},
   "source": [
    "## >>> build mask arrays (Q- how to mask array? and overlay/plot both over each other?)"
   ]
  },
  {
   "cell_type": "code",
   "execution_count": 24,
   "metadata": {},
   "outputs": [],
   "source": [
    "#~ 1st, update -99 --> Nan \n",
    "# rough_arr[rough_arr == -99.0] = np.nan"
   ]
  },
  {
   "cell_type": "markdown",
   "metadata": {},
   "source": [
    "## 1-filter for roughness"
   ]
  },
  {
   "cell_type": "code",
   "execution_count": 25,
   "metadata": {},
   "outputs": [
    {
     "name": "stdout",
     "output_type": "stream",
     "text": [
      "-999994.0\n",
      "829.2362670898438\n",
      "min roughness: 3.197499990463257\n",
      "max roughness: 829.2362670898438\n",
      "739816\n",
      "<type 'numpy.ndarray'>\n"
     ]
    },
    {
     "name": "stderr",
     "output_type": "stream",
     "text": [
      "/Users/ehsanmos/Library/Python/2.7/lib/python/site-packages/ipykernel_launcher.py:21: RuntimeWarning: invalid value encountered in greater\n"
     ]
    }
   ],
   "source": [
    "# land_mask = np.ma.masked_values(roughness_array, roughness_array == -999994.0)  # for float data\n",
    "# land_mask = np.ma.masked_array(roughness_array==-999994.0, roughness_array)\n",
    "# land_mask = np.ma.masked_where(roughness_array==-999994.0, roughness_array)\n",
    "# land_mask = np.where(rough_arr == -999994.0, 0, 1.0)\n",
    "# land_mask = np.ma.masked_where(roughness_array == -999994.0, roughness_array)\n",
    "# land_mask = np.ma.masked_array(roughness_array == -999994, roughness_array)\n",
    "\n",
    "\n",
    "\n",
    "#~ filter roughness array\n",
    "#~ make a copy of roughness array to use for filter\n",
    "roughness = np.copy(rough_arr)\n",
    "\n",
    "print(np.nanmin(roughness))\n",
    "print(np.nanmax(roughness))\n",
    "\n",
    "roughness[rough_arr <= 0.0] = np.nan  # mask neg. values and keep +values; to extract positive rough values; \n",
    "\n",
    "print('min roughness: %s' % np.nanmin(roughness))\n",
    "print('max roughness: %s' % np.nanmax(roughness))\n",
    "print(np.count_nonzero(roughness[roughness > 0]))\n",
    "print(type(roughness))\n"
   ]
  },
  {
   "cell_type": "markdown",
   "metadata": {},
   "source": [
    "## 2-filter for land mask"
   ]
  },
  {
   "cell_type": "code",
   "execution_count": 26,
   "metadata": {},
   "outputs": [
    {
     "name": "stdout",
     "output_type": "stream",
     "text": [
      "min: -999994.0\n",
      "max: 829.2362670898438\n",
      "landMask min: -999994.0\n",
      "landMask max: -999994.0\n",
      "4767\n"
     ]
    }
   ],
   "source": [
    "#~ filter for land mask\n",
    "# land_mask = rough_arr  # make copy of rough_arr; not good cuz if we modify rough_arr ==> land_mask will change\n",
    "land = np.copy(rough_arr)  # right way to copy array \n",
    "print('min: %s' % np.nanmin(land))\n",
    "print('max: %s' % np.nanmax(land))\n",
    "\n",
    "land[rough_arr != -999994.0] = np.nan  # keep -999994 and masks everything.\n",
    "\n",
    "print('landMask min: %s' % np.nanmin(land))\n",
    "print('landMask max: %s' % np.nanmax(land))\n",
    "print(np.count_nonzero(land[land == -999994.0]))\n",
    "# plt.imshow(land, cmap='gray')\n"
   ]
  },
  {
   "cell_type": "markdown",
   "metadata": {},
   "source": [
    "## 3-filter for noData"
   ]
  },
  {
   "cell_type": "code",
   "execution_count": 27,
   "metadata": {},
   "outputs": [
    {
     "name": "stdout",
     "output_type": "stream",
     "text": [
      "min: -999994.0\n",
      "max: 829.2362670898438\n",
      "noData min: -99.0\n",
      "noData max: -99.0\n"
     ]
    }
   ],
   "source": [
    "#~ filter for noData (rest of data)\n",
    "nodata = np.copy(rough_arr)  # right way to copy array \n",
    "print('min: %s' % np.nanmin(nodata))\n",
    "print('max: %s' % np.nanmax(nodata))\n",
    "\n",
    "nodata[rough_arr != -99.0] = np.nan  # -99.0 is signal/flag for noData\n",
    "\n",
    "print('noData min: %s' % np.nanmin(nodata))\n",
    "print('noData max: %s' % np.nanmax(nodata))\n",
    "\n",
    "# plt.imshow(nodata, origin='lower', cmap='gray')\n",
    "\n",
    "#~ np.where with 2 conditions for noData???\n",
    "# nodata_mask = np.where((rough_arr >= 0.0) & (rough_arr==-999994.0), np.nan, -9.)\n",
    "# print(nodata_mask)"
   ]
  },
  {
   "cell_type": "code",
   "execution_count": 28,
   "metadata": {},
   "outputs": [],
   "source": [
    "# other = np.copy(rough_arr)\n",
    "# # other[other != -999994.0] = np.nan # mask everything eccept this\n",
    "# # other[other != -1] = np.nan # mask everything eccept this\n",
    "# # other[other <= 0 ] = np.nan # mask neg. values\n",
    "# other[other != 0 ] = np.nan # mask everything eccept zero\n",
    "\n",
    "# plt.imshow(other, cmap='Reds', origin='lower')"
   ]
  },
  {
   "cell_type": "markdown",
   "metadata": {},
   "source": [
    "## define our customed colormap from default colormap"
   ]
  },
  {
   "cell_type": "code",
   "execution_count": 52,
   "metadata": {},
   "outputs": [],
   "source": [
    "''' colormap is used to map data to colors == colorcode data'''\n",
    "from matplotlib.colors import ListedColormap\n",
    "\n",
    "blues_for_seaice = cm.get_cmap('Blues', 100)\n",
    "seaice_color = ListedColormap(blues_for_seaice(np.linspace(0.1, 1, 100)))\n",
    "SIR_colormap = plt.cm.get_cmap(seaice_color, 10)\n",
    "SIR_colormap.set_over('red')  # to set anything onder zero==black\n",
    "# SIR_colormap.set_under('black')\n",
    "\n",
    "\n",
    "copper_for_land = cm.get_cmap('terrain', 100)\n",
    "# print(copper_for_land)\n",
    "land_color = ListedColormap(copper_for_land(np.linspace(0.7, 0.8, 100)))  # should be in range: [0, 1]\n",
    "# print(land_color)  # this is the new sequential colormap and we will use the colorcode of our defined/extracted range from the full colormap\n",
    "\n",
    "grays_for_nodata = cm.get_cmap('gray', 100)\n",
    "nodata_color = ListedColormap(grays_for_nodata(np.linspace(0.0, 0.01, 100)))\n",
    "\n",
    "#~ inspired by: https://matplotlib.org/3.2.1/tutorials/colors/colormap-manipulation.html"
   ]
  },
  {
   "cell_type": "markdown",
   "metadata": {},
   "source": [
    "## plot arrays (Q- how to overlay 2 arrays/images?)"
   ]
  },
  {
   "cell_type": "code",
   "execution_count": 61,
   "metadata": {},
   "outputs": [
    {
     "name": "stdout",
     "output_type": "stream",
     "text": [
      "<class 'matplotlib.figure.Figure'>\n",
      "<class 'matplotlib.axes._subplots.AxesSubplot'>\n",
      "/Users/ehsanmos/Documents/RnD/MISR_lab/img_dir.nosync/oneBlock_1Apr2013.jpg\n",
      "-> START saving image on disc!\n",
      "-> FINISHED saving image on disc!\n"
     ]
    },
    {
     "data": {
      "image/png": "[encoded data removed]",
      "text/plain": [
       "<Figure size 432x288 with 2 Axes>"
      ]
     },
     "metadata": {
      "needs_background": "light"
     },
     "output_type": "display_data"
    }
   ],
   "source": [
    "saved_dir = '/Users/ehsanmos/Documents/RnD/MISR_lab/img_dir.nosync'\n",
    "\n",
    "(fig, ax) = plt.subplots()  # returns one figure==canvas and we can have multiple subplots==axes; has more features than plt.subplot(); figure != plot = image; e.g: fig, (ax1, ax2) = plt.subplots(nrows=2, figsize=(6, 5.4))\n",
    "\n",
    "print(type(fig))\n",
    "print(type(ax))\n",
    "\n",
    "img1 = ax.imshow(roughness, cmap=SIR_colormap, origin='lower' , interpolation='none', extent=plot_extent, norm=None, vmin=0.0, vmax=100);  # normalization=None == not linear scale data into [lowest=0,highest=1] & we pick the data range to plot [0,100]\n",
    "img2 = ax.imshow(land, cmap= land_color, origin='lower', interpolation='none', extent=plot_extent)\n",
    "img3 = ax.imshow(nodata, cmap=nodata_color, origin='lower', interpolation='none', extent=plot_extent);\n",
    "\n",
    "#~ colorbar\n",
    "cmap_title = 'Sea Ice Roughness (cm)'\n",
    "cbar = fig.colorbar(img1, extend='max', aspect=40, fraction=0.012, pad=0.02);  # extend shows the range that goes beyond max limit on plot\n",
    "cbar.set_label(cmap_title, rotation=90, labelpad=10, fontsize=6);\n",
    "cbar.ax.tick_params(labelsize=5)\n",
    "cbar.outline.set_visible(False)\n",
    "\n",
    "# plt.title('Sea Ice Roughness over the Arctic'); \n",
    "ax.set_title('Estimated Sea Ice Roughness for ' + plot_date, fontsize=8);\n",
    "\n",
    "#~ axis\n",
    "# ax = plt.gca();  # get-current-axis\n",
    "ax.ticklabel_format(useOffset=False, style='plain', size=10); # do not use scientific notation \n",
    "rotatexlabels = plt.setp(ax.get_xticklabels(), rotation=90); # rotate x tick labels 90 degrees\n",
    "\n",
    "#~ axis limits\n",
    "xstart, xend = ax.get_xlim()\n",
    "xstepsize = abs(xend-xstart)/6\n",
    "ax.xaxis.set_ticks(np.arange(xstart, xend, xstepsize))\n",
    "\n",
    "# plt.xlim(xmin=0)\n",
    "\n",
    "\n",
    "ystart, yend = ax.get_ylim()\n",
    "ystepsize = abs(yend-ystart)/6\n",
    "ax.yaxis.set_ticks(np.arange(ystart, yend, ystepsize))\n",
    "\n",
    "#~ axis font size\n",
    "plt.xticks(fontsize=3)\n",
    "plt.yticks(fontsize=3)\n",
    "\n",
    "#~ grid\n",
    "ax.grid(True, which='both', axis='both', color='white', linewidth=0.05)\n",
    "\n",
    "#~ x and y labels\n",
    "plt.xlabel('Longitude (m)', fontsize=5)\n",
    "plt.ylabel('Latitude (m)', fontsize=5)\n",
    "\n",
    "#~ path to save directory\n",
    "saved_img_fullpath = os.path.join(saved_dir, saved_img_name)\n",
    "print(saved_img_fullpath)\n",
    "\n",
    "print('-> START saving image on disc!')\n",
    "plt.savefig(saved_img_fullpath, bbox_inches='tight', pad_inches=0.2, dpi=600)\n",
    "print('-> FINISHED saving image on disc!')\n",
    "\n",
    "plt.show()     # should come after plt.savefig()\n",
    "\n",
    "plt.close()    # close the figure window; plt.close(fig) if we created by:  fig, ax = plt.subplots()\n",
    "\n",
    "\n",
    "# inspired by: \n",
    "# https://www.neonscience.org/resources/learning-hub/tutorials/mask-raster-py\n",
    "# https://www.neonscience.org/resources/learning-hub/tutorials/neon-hsi-aop-functions-tiles-py\n"
   ]
  },
  {
   "cell_type": "code",
   "execution_count": 57,
   "metadata": {},
   "outputs": [],
   "source": [
    "dataset = None"
   ]
  },
  {
   "cell_type": "code",
   "execution_count": null,
   "metadata": {},
   "outputs": [],
   "source": []
  }
 ],
 "metadata": {
  "kernelspec": {
   "display_name": "Python 2",
   "language": "python",
   "name": "python2"
  },
  "language_info": {
   "codemirror_mode": {
    "name": "ipython",
    "version": 2
   },
   "file_extension": ".py",
   "mimetype": "text/x-python",
   "name": "python",
   "nbconvert_exporter": "python",
   "pygments_lexer": "ipython2",
   "version": "2.7.16"
  }
 },
 "nbformat": 4,
 "nbformat_minor": 2
}
